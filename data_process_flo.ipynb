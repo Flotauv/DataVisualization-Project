{
 "cells": [
  {
   "cell_type": "code",
   "execution_count": null,
   "id": "c456a1be",
   "metadata": {},
   "outputs": [],
   "source": [
    "## Libraries"
   ]
  },
  {
   "cell_type": "code",
   "execution_count": 1,
   "id": "d3f043d1",
   "metadata": {},
   "outputs": [],
   "source": [
    "import pandas as pd\n",
    "import numpy as np\n",
    "import matplotlib.pyplot as plt\n",
    "import seaborn as sns\n",
    "import plotly "
   ]
  },
  {
   "cell_type": "code",
   "execution_count": 4,
   "id": "ce77c806",
   "metadata": {},
   "outputs": [],
   "source": [
    "#Lecture de la base de données\n",
    "df = pd.read_csv('db_delinquance.csv',sep=';')"
   ]
  },
  {
   "cell_type": "code",
   "execution_count": 5,
   "id": "3d75eeeb",
   "metadata": {},
   "outputs": [
    {
     "data": {
      "text/html": [
       "<div>\n",
       "<style scoped>\n",
       "    .dataframe tbody tr th:only-of-type {\n",
       "        vertical-align: middle;\n",
       "    }\n",
       "\n",
       "    .dataframe tbody tr th {\n",
       "        vertical-align: top;\n",
       "    }\n",
       "\n",
       "    .dataframe thead th {\n",
       "        text-align: right;\n",
       "    }\n",
       "</style>\n",
       "<table border=\"1\" class=\"dataframe\">\n",
       "  <thead>\n",
       "    <tr style=\"text-align: right;\">\n",
       "      <th></th>\n",
       "      <th>Code_region</th>\n",
       "      <th>annee</th>\n",
       "      <th>indicateur</th>\n",
       "      <th>unite_de_compte</th>\n",
       "      <th>nombre</th>\n",
       "      <th>taux_pour_mille</th>\n",
       "      <th>insee_pop</th>\n",
       "      <th>insee_pop_millesime</th>\n",
       "      <th>insee_log</th>\n",
       "      <th>insee_log_millesime</th>\n",
       "    </tr>\n",
       "  </thead>\n",
       "  <tbody>\n",
       "    <tr>\n",
       "      <th>0</th>\n",
       "      <td>1</td>\n",
       "      <td>2016</td>\n",
       "      <td>Homicides</td>\n",
       "      <td>Victime</td>\n",
       "      <td>32</td>\n",
       "      <td>0,0811956</td>\n",
       "      <td>394110</td>\n",
       "      <td>2016</td>\n",
       "      <td>226105</td>\n",
       "      <td>2016</td>\n",
       "    </tr>\n",
       "    <tr>\n",
       "      <th>1</th>\n",
       "      <td>2</td>\n",
       "      <td>2016</td>\n",
       "      <td>Homicides</td>\n",
       "      <td>Victime</td>\n",
       "      <td>18</td>\n",
       "      <td>0,0478113</td>\n",
       "      <td>376480</td>\n",
       "      <td>2016</td>\n",
       "      <td>211621</td>\n",
       "      <td>2016</td>\n",
       "    </tr>\n",
       "    <tr>\n",
       "      <th>2</th>\n",
       "      <td>3</td>\n",
       "      <td>2016</td>\n",
       "      <td>Homicides</td>\n",
       "      <td>Victime</td>\n",
       "      <td>41</td>\n",
       "      <td>0,1522172</td>\n",
       "      <td>269352</td>\n",
       "      <td>2016</td>\n",
       "      <td>88454</td>\n",
       "      <td>2016</td>\n",
       "    </tr>\n",
       "    <tr>\n",
       "      <th>3</th>\n",
       "      <td>4</td>\n",
       "      <td>2016</td>\n",
       "      <td>Homicides</td>\n",
       "      <td>Victime</td>\n",
       "      <td>14</td>\n",
       "      <td>0,0164141</td>\n",
       "      <td>852924</td>\n",
       "      <td>2016</td>\n",
       "      <td>363111</td>\n",
       "      <td>2016</td>\n",
       "    </tr>\n",
       "    <tr>\n",
       "      <th>4</th>\n",
       "      <td>6</td>\n",
       "      <td>2016</td>\n",
       "      <td>Homicides</td>\n",
       "      <td>Victime</td>\n",
       "      <td>10</td>\n",
       "      <td>0,0389836</td>\n",
       "      <td>256518</td>\n",
       "      <td>2017</td>\n",
       "      <td>73880</td>\n",
       "      <td>2017</td>\n",
       "    </tr>\n",
       "    <tr>\n",
       "      <th>...</th>\n",
       "      <td>...</td>\n",
       "      <td>...</td>\n",
       "      <td>...</td>\n",
       "      <td>...</td>\n",
       "      <td>...</td>\n",
       "      <td>...</td>\n",
       "      <td>...</td>\n",
       "      <td>...</td>\n",
       "      <td>...</td>\n",
       "      <td>...</td>\n",
       "    </tr>\n",
       "    <tr>\n",
       "      <th>2911</th>\n",
       "      <td>75</td>\n",
       "      <td>2024</td>\n",
       "      <td>Escroqueries et fraudes aux moyens de paiement</td>\n",
       "      <td>Victime</td>\n",
       "      <td>36264</td>\n",
       "      <td>5,9319029</td>\n",
       "      <td>6113384</td>\n",
       "      <td>2022</td>\n",
       "      <td>3621478</td>\n",
       "      <td>2021</td>\n",
       "    </tr>\n",
       "    <tr>\n",
       "      <th>2912</th>\n",
       "      <td>76</td>\n",
       "      <td>2024</td>\n",
       "      <td>Escroqueries et fraudes aux moyens de paiement</td>\n",
       "      <td>Victime</td>\n",
       "      <td>39182</td>\n",
       "      <td>6,4436332</td>\n",
       "      <td>6080731</td>\n",
       "      <td>2022</td>\n",
       "      <td>3714369</td>\n",
       "      <td>2021</td>\n",
       "    </tr>\n",
       "    <tr>\n",
       "      <th>2913</th>\n",
       "      <td>84</td>\n",
       "      <td>2024</td>\n",
       "      <td>Escroqueries et fraudes aux moyens de paiement</td>\n",
       "      <td>Victime</td>\n",
       "      <td>52500</td>\n",
       "      <td>6,4307626</td>\n",
       "      <td>8163884</td>\n",
       "      <td>2022</td>\n",
       "      <td>4619729</td>\n",
       "      <td>2021</td>\n",
       "    </tr>\n",
       "    <tr>\n",
       "      <th>2914</th>\n",
       "      <td>93</td>\n",
       "      <td>2024</td>\n",
       "      <td>Escroqueries et fraudes aux moyens de paiement</td>\n",
       "      <td>Victime</td>\n",
       "      <td>36431</td>\n",
       "      <td>7,0461899</td>\n",
       "      <td>5170312</td>\n",
       "      <td>2022</td>\n",
       "      <td>3185126</td>\n",
       "      <td>2021</td>\n",
       "    </tr>\n",
       "    <tr>\n",
       "      <th>2915</th>\n",
       "      <td>94</td>\n",
       "      <td>2024</td>\n",
       "      <td>Escroqueries et fraudes aux moyens de paiement</td>\n",
       "      <td>Victime</td>\n",
       "      <td>1657</td>\n",
       "      <td>4,7170886</td>\n",
       "      <td>351276</td>\n",
       "      <td>2022</td>\n",
       "      <td>261676</td>\n",
       "      <td>2021</td>\n",
       "    </tr>\n",
       "  </tbody>\n",
       "</table>\n",
       "<p>2916 rows × 10 columns</p>\n",
       "</div>"
      ],
      "text/plain": [
       "      Code_region  annee                                      indicateur  \\\n",
       "0               1   2016                                       Homicides   \n",
       "1               2   2016                                       Homicides   \n",
       "2               3   2016                                       Homicides   \n",
       "3               4   2016                                       Homicides   \n",
       "4               6   2016                                       Homicides   \n",
       "...           ...    ...                                             ...   \n",
       "2911           75   2024  Escroqueries et fraudes aux moyens de paiement   \n",
       "2912           76   2024  Escroqueries et fraudes aux moyens de paiement   \n",
       "2913           84   2024  Escroqueries et fraudes aux moyens de paiement   \n",
       "2914           93   2024  Escroqueries et fraudes aux moyens de paiement   \n",
       "2915           94   2024  Escroqueries et fraudes aux moyens de paiement   \n",
       "\n",
       "     unite_de_compte  nombre taux_pour_mille  insee_pop  insee_pop_millesime  \\\n",
       "0            Victime      32       0,0811956     394110                 2016   \n",
       "1            Victime      18       0,0478113     376480                 2016   \n",
       "2            Victime      41       0,1522172     269352                 2016   \n",
       "3            Victime      14       0,0164141     852924                 2016   \n",
       "4            Victime      10       0,0389836     256518                 2017   \n",
       "...              ...     ...             ...        ...                  ...   \n",
       "2911         Victime   36264       5,9319029    6113384                 2022   \n",
       "2912         Victime   39182       6,4436332    6080731                 2022   \n",
       "2913         Victime   52500       6,4307626    8163884                 2022   \n",
       "2914         Victime   36431       7,0461899    5170312                 2022   \n",
       "2915         Victime    1657       4,7170886     351276                 2022   \n",
       "\n",
       "      insee_log  insee_log_millesime  \n",
       "0        226105                 2016  \n",
       "1        211621                 2016  \n",
       "2         88454                 2016  \n",
       "3        363111                 2016  \n",
       "4         73880                 2017  \n",
       "...         ...                  ...  \n",
       "2911    3621478                 2021  \n",
       "2912    3714369                 2021  \n",
       "2913    4619729                 2021  \n",
       "2914    3185126                 2021  \n",
       "2915     261676                 2021  \n",
       "\n",
       "[2916 rows x 10 columns]"
      ]
     },
     "execution_count": 5,
     "metadata": {},
     "output_type": "execute_result"
    }
   ],
   "source": [
    "df"
   ]
  },
  {
   "cell_type": "code",
   "execution_count": 6,
   "id": "ee71342e",
   "metadata": {},
   "outputs": [
    {
     "name": "stdout",
     "output_type": "stream",
     "text": [
      "<class 'pandas.core.frame.DataFrame'>\n",
      "RangeIndex: 2916 entries, 0 to 2915\n",
      "Data columns (total 10 columns):\n",
      " #   Column               Non-Null Count  Dtype \n",
      "---  ------               --------------  ----- \n",
      " 0   Code_region          2916 non-null   int64 \n",
      " 1   annee                2916 non-null   int64 \n",
      " 2   indicateur           2916 non-null   object\n",
      " 3   unite_de_compte      2916 non-null   object\n",
      " 4   nombre               2916 non-null   int64 \n",
      " 5   taux_pour_mille      2916 non-null   object\n",
      " 6   insee_pop            2916 non-null   int64 \n",
      " 7   insee_pop_millesime  2916 non-null   int64 \n",
      " 8   insee_log            2916 non-null   int64 \n",
      " 9   insee_log_millesime  2916 non-null   int64 \n",
      "dtypes: int64(7), object(3)\n",
      "memory usage: 227.9+ KB\n"
     ]
    }
   ],
   "source": [
    "df.info()"
   ]
  },
  {
   "cell_type": "code",
   "execution_count": 9,
   "id": "4f037c68",
   "metadata": {},
   "outputs": [
    {
     "data": {
      "text/plain": [
       "array([2016, 2017, 2018, 2019, 2020, 2021, 2022, 2023, 2024])"
      ]
     },
     "execution_count": 9,
     "metadata": {},
     "output_type": "execute_result"
    }
   ],
   "source": [
    "df['annee'].unique()"
   ]
  },
  {
   "cell_type": "code",
   "execution_count": 10,
   "id": "ddc0705c",
   "metadata": {},
   "outputs": [
    {
     "data": {
      "text/plain": [
       "array(['Homicides', \"Tentatives d'homicide\",\n",
       "       'Violences physiques intrafamiliales',\n",
       "       'Violences physiques hors cadre familial', 'Violences sexuelles',\n",
       "       'Vols avec armes', 'Vols violents sans arme',\n",
       "       'Vols sans violence contre des personnes',\n",
       "       'Cambriolages de logement', 'Vols de véhicule',\n",
       "       'Vols dans les véhicules', \"Vols d'accessoires sur véhicules\",\n",
       "       'Destructions et dégradations volontaires', 'Usage de stupéfiants',\n",
       "       'Usage de stupéfiants (AFD)', 'Usage de stupéfiants (hors AFD)',\n",
       "       'Trafic de stupéfiants',\n",
       "       'Escroqueries et fraudes aux moyens de paiement'], dtype=object)"
      ]
     },
     "execution_count": 10,
     "metadata": {},
     "output_type": "execute_result"
    }
   ],
   "source": [
    "df['indicateur'].unique()"
   ]
  },
  {
   "cell_type": "code",
   "execution_count": 11,
   "id": "6dd938c7",
   "metadata": {},
   "outputs": [
    {
     "data": {
      "text/plain": [
       "array(['Victime', 'Infraction', 'Victime entendue', 'Véhicule',\n",
       "       'Mis en cause'], dtype=object)"
      ]
     },
     "execution_count": 11,
     "metadata": {},
     "output_type": "execute_result"
    }
   ],
   "source": [
    "df['unite_de_compte'].unique()"
   ]
  },
  {
   "cell_type": "code",
   "execution_count": null,
   "id": "13800e8f",
   "metadata": {},
   "outputs": [],
   "source": []
  }
 ],
 "metadata": {
  "kernelspec": {
   "display_name": "Python 3",
   "language": "python",
   "name": "python3"
  },
  "language_info": {
   "codemirror_mode": {
    "name": "ipython",
    "version": 3
   },
   "file_extension": ".py",
   "mimetype": "text/x-python",
   "name": "python",
   "nbconvert_exporter": "python",
   "pygments_lexer": "ipython3",
   "version": "3.8.8"
  }
 },
 "nbformat": 4,
 "nbformat_minor": 5
}
