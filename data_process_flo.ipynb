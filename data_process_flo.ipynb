{
 "cells": [
  {
   "cell_type": "code",
   "execution_count": 1,
   "id": "c456a1be",
   "metadata": {},
   "outputs": [],
   "source": [
    "## Libraries"
   ]
  },
  {
   "cell_type": "code",
   "execution_count": 2,
   "id": "d3f043d1",
   "metadata": {},
   "outputs": [],
   "source": [
    "import pandas as pd\n",
    "import numpy as np\n",
    "import matplotlib.pyplot as plt\n",
    "import seaborn as sns\n",
    "import plotly.express as px"
   ]
  },
  {
   "cell_type": "code",
   "execution_count": 3,
   "id": "ce77c806",
   "metadata": {},
   "outputs": [],
   "source": [
    "#Lecture de la base de données\n",
    "df = pd.read_csv('dataset/db_delinquance_region.csv',sep=';')"
   ]
  },
  {
   "cell_type": "code",
   "execution_count": 4,
   "id": "3d75eeeb",
   "metadata": {},
   "outputs": [
    {
     "data": {
      "text/html": [
       "<div>\n",
       "<style scoped>\n",
       "    .dataframe tbody tr th:only-of-type {\n",
       "        vertical-align: middle;\n",
       "    }\n",
       "\n",
       "    .dataframe tbody tr th {\n",
       "        vertical-align: top;\n",
       "    }\n",
       "\n",
       "    .dataframe thead th {\n",
       "        text-align: right;\n",
       "    }\n",
       "</style>\n",
       "<table border=\"1\" class=\"dataframe\">\n",
       "  <thead>\n",
       "    <tr style=\"text-align: right;\">\n",
       "      <th></th>\n",
       "      <th>Code_region</th>\n",
       "      <th>annee</th>\n",
       "      <th>indicateur</th>\n",
       "      <th>unite_de_compte</th>\n",
       "      <th>nombre</th>\n",
       "      <th>taux_pour_mille</th>\n",
       "      <th>insee_pop</th>\n",
       "      <th>insee_pop_millesime</th>\n",
       "      <th>insee_log</th>\n",
       "      <th>insee_log_millesime</th>\n",
       "    </tr>\n",
       "  </thead>\n",
       "  <tbody>\n",
       "    <tr>\n",
       "      <th>0</th>\n",
       "      <td>1</td>\n",
       "      <td>2016</td>\n",
       "      <td>Homicides</td>\n",
       "      <td>Victime</td>\n",
       "      <td>32</td>\n",
       "      <td>0,0811956</td>\n",
       "      <td>394110</td>\n",
       "      <td>2016</td>\n",
       "      <td>226105</td>\n",
       "      <td>2016</td>\n",
       "    </tr>\n",
       "    <tr>\n",
       "      <th>1</th>\n",
       "      <td>2</td>\n",
       "      <td>2016</td>\n",
       "      <td>Homicides</td>\n",
       "      <td>Victime</td>\n",
       "      <td>18</td>\n",
       "      <td>0,0478113</td>\n",
       "      <td>376480</td>\n",
       "      <td>2016</td>\n",
       "      <td>211621</td>\n",
       "      <td>2016</td>\n",
       "    </tr>\n",
       "    <tr>\n",
       "      <th>2</th>\n",
       "      <td>3</td>\n",
       "      <td>2016</td>\n",
       "      <td>Homicides</td>\n",
       "      <td>Victime</td>\n",
       "      <td>41</td>\n",
       "      <td>0,1522172</td>\n",
       "      <td>269352</td>\n",
       "      <td>2016</td>\n",
       "      <td>88454</td>\n",
       "      <td>2016</td>\n",
       "    </tr>\n",
       "    <tr>\n",
       "      <th>3</th>\n",
       "      <td>4</td>\n",
       "      <td>2016</td>\n",
       "      <td>Homicides</td>\n",
       "      <td>Victime</td>\n",
       "      <td>14</td>\n",
       "      <td>0,0164141</td>\n",
       "      <td>852924</td>\n",
       "      <td>2016</td>\n",
       "      <td>363111</td>\n",
       "      <td>2016</td>\n",
       "    </tr>\n",
       "    <tr>\n",
       "      <th>4</th>\n",
       "      <td>6</td>\n",
       "      <td>2016</td>\n",
       "      <td>Homicides</td>\n",
       "      <td>Victime</td>\n",
       "      <td>10</td>\n",
       "      <td>0,0389836</td>\n",
       "      <td>256518</td>\n",
       "      <td>2017</td>\n",
       "      <td>73880</td>\n",
       "      <td>2017</td>\n",
       "    </tr>\n",
       "    <tr>\n",
       "      <th>...</th>\n",
       "      <td>...</td>\n",
       "      <td>...</td>\n",
       "      <td>...</td>\n",
       "      <td>...</td>\n",
       "      <td>...</td>\n",
       "      <td>...</td>\n",
       "      <td>...</td>\n",
       "      <td>...</td>\n",
       "      <td>...</td>\n",
       "      <td>...</td>\n",
       "    </tr>\n",
       "    <tr>\n",
       "      <th>2911</th>\n",
       "      <td>75</td>\n",
       "      <td>2024</td>\n",
       "      <td>Escroqueries et fraudes aux moyens de paiement</td>\n",
       "      <td>Victime</td>\n",
       "      <td>36264</td>\n",
       "      <td>5,9319029</td>\n",
       "      <td>6113384</td>\n",
       "      <td>2022</td>\n",
       "      <td>3621478</td>\n",
       "      <td>2021</td>\n",
       "    </tr>\n",
       "    <tr>\n",
       "      <th>2912</th>\n",
       "      <td>76</td>\n",
       "      <td>2024</td>\n",
       "      <td>Escroqueries et fraudes aux moyens de paiement</td>\n",
       "      <td>Victime</td>\n",
       "      <td>39182</td>\n",
       "      <td>6,4436332</td>\n",
       "      <td>6080731</td>\n",
       "      <td>2022</td>\n",
       "      <td>3714369</td>\n",
       "      <td>2021</td>\n",
       "    </tr>\n",
       "    <tr>\n",
       "      <th>2913</th>\n",
       "      <td>84</td>\n",
       "      <td>2024</td>\n",
       "      <td>Escroqueries et fraudes aux moyens de paiement</td>\n",
       "      <td>Victime</td>\n",
       "      <td>52500</td>\n",
       "      <td>6,4307626</td>\n",
       "      <td>8163884</td>\n",
       "      <td>2022</td>\n",
       "      <td>4619729</td>\n",
       "      <td>2021</td>\n",
       "    </tr>\n",
       "    <tr>\n",
       "      <th>2914</th>\n",
       "      <td>93</td>\n",
       "      <td>2024</td>\n",
       "      <td>Escroqueries et fraudes aux moyens de paiement</td>\n",
       "      <td>Victime</td>\n",
       "      <td>36431</td>\n",
       "      <td>7,0461899</td>\n",
       "      <td>5170312</td>\n",
       "      <td>2022</td>\n",
       "      <td>3185126</td>\n",
       "      <td>2021</td>\n",
       "    </tr>\n",
       "    <tr>\n",
       "      <th>2915</th>\n",
       "      <td>94</td>\n",
       "      <td>2024</td>\n",
       "      <td>Escroqueries et fraudes aux moyens de paiement</td>\n",
       "      <td>Victime</td>\n",
       "      <td>1657</td>\n",
       "      <td>4,7170886</td>\n",
       "      <td>351276</td>\n",
       "      <td>2022</td>\n",
       "      <td>261676</td>\n",
       "      <td>2021</td>\n",
       "    </tr>\n",
       "  </tbody>\n",
       "</table>\n",
       "<p>2916 rows × 10 columns</p>\n",
       "</div>"
      ],
      "text/plain": [
       "      Code_region  annee                                      indicateur  \\\n",
       "0               1   2016                                       Homicides   \n",
       "1               2   2016                                       Homicides   \n",
       "2               3   2016                                       Homicides   \n",
       "3               4   2016                                       Homicides   \n",
       "4               6   2016                                       Homicides   \n",
       "...           ...    ...                                             ...   \n",
       "2911           75   2024  Escroqueries et fraudes aux moyens de paiement   \n",
       "2912           76   2024  Escroqueries et fraudes aux moyens de paiement   \n",
       "2913           84   2024  Escroqueries et fraudes aux moyens de paiement   \n",
       "2914           93   2024  Escroqueries et fraudes aux moyens de paiement   \n",
       "2915           94   2024  Escroqueries et fraudes aux moyens de paiement   \n",
       "\n",
       "     unite_de_compte  nombre taux_pour_mille  insee_pop  insee_pop_millesime  \\\n",
       "0            Victime      32       0,0811956     394110                 2016   \n",
       "1            Victime      18       0,0478113     376480                 2016   \n",
       "2            Victime      41       0,1522172     269352                 2016   \n",
       "3            Victime      14       0,0164141     852924                 2016   \n",
       "4            Victime      10       0,0389836     256518                 2017   \n",
       "...              ...     ...             ...        ...                  ...   \n",
       "2911         Victime   36264       5,9319029    6113384                 2022   \n",
       "2912         Victime   39182       6,4436332    6080731                 2022   \n",
       "2913         Victime   52500       6,4307626    8163884                 2022   \n",
       "2914         Victime   36431       7,0461899    5170312                 2022   \n",
       "2915         Victime    1657       4,7170886     351276                 2022   \n",
       "\n",
       "      insee_log  insee_log_millesime  \n",
       "0        226105                 2016  \n",
       "1        211621                 2016  \n",
       "2         88454                 2016  \n",
       "3        363111                 2016  \n",
       "4         73880                 2017  \n",
       "...         ...                  ...  \n",
       "2911    3621478                 2021  \n",
       "2912    3714369                 2021  \n",
       "2913    4619729                 2021  \n",
       "2914    3185126                 2021  \n",
       "2915     261676                 2021  \n",
       "\n",
       "[2916 rows x 10 columns]"
      ]
     },
     "execution_count": 4,
     "metadata": {},
     "output_type": "execute_result"
    }
   ],
   "source": [
    "df"
   ]
  },
  {
   "cell_type": "code",
   "execution_count": 5,
   "id": "ee71342e",
   "metadata": {},
   "outputs": [
    {
     "name": "stdout",
     "output_type": "stream",
     "text": [
      "<class 'pandas.core.frame.DataFrame'>\n",
      "RangeIndex: 2916 entries, 0 to 2915\n",
      "Data columns (total 10 columns):\n",
      " #   Column               Non-Null Count  Dtype \n",
      "---  ------               --------------  ----- \n",
      " 0   Code_region          2916 non-null   int64 \n",
      " 1   annee                2916 non-null   int64 \n",
      " 2   indicateur           2916 non-null   object\n",
      " 3   unite_de_compte      2916 non-null   object\n",
      " 4   nombre               2916 non-null   int64 \n",
      " 5   taux_pour_mille      2916 non-null   object\n",
      " 6   insee_pop            2916 non-null   int64 \n",
      " 7   insee_pop_millesime  2916 non-null   int64 \n",
      " 8   insee_log            2916 non-null   int64 \n",
      " 9   insee_log_millesime  2916 non-null   int64 \n",
      "dtypes: int64(7), object(3)\n",
      "memory usage: 227.9+ KB\n"
     ]
    }
   ],
   "source": [
    "df.info()"
   ]
  },
  {
   "cell_type": "code",
   "execution_count": 6,
   "id": "4f037c68",
   "metadata": {},
   "outputs": [
    {
     "data": {
      "text/plain": [
       "array([2016, 2017, 2018, 2019, 2020, 2021, 2022, 2023, 2024])"
      ]
     },
     "execution_count": 6,
     "metadata": {},
     "output_type": "execute_result"
    }
   ],
   "source": [
    "df['annee'].unique()"
   ]
  },
  {
   "cell_type": "code",
   "execution_count": 7,
   "id": "ddc0705c",
   "metadata": {},
   "outputs": [
    {
     "data": {
      "text/plain": [
       "array(['Homicides', \"Tentatives d'homicide\",\n",
       "       'Violences physiques intrafamiliales',\n",
       "       'Violences physiques hors cadre familial', 'Violences sexuelles',\n",
       "       'Vols avec armes', 'Vols violents sans arme',\n",
       "       'Vols sans violence contre des personnes',\n",
       "       'Cambriolages de logement', 'Vols de véhicule',\n",
       "       'Vols dans les véhicules', \"Vols d'accessoires sur véhicules\",\n",
       "       'Destructions et dégradations volontaires', 'Usage de stupéfiants',\n",
       "       'Usage de stupéfiants (AFD)', 'Usage de stupéfiants (hors AFD)',\n",
       "       'Trafic de stupéfiants',\n",
       "       'Escroqueries et fraudes aux moyens de paiement'], dtype=object)"
      ]
     },
     "execution_count": 7,
     "metadata": {},
     "output_type": "execute_result"
    }
   ],
   "source": [
    "df['indicateur'].unique()"
   ]
  },
  {
   "cell_type": "code",
   "execution_count": 8,
   "id": "6dd938c7",
   "metadata": {},
   "outputs": [
    {
     "data": {
      "text/plain": [
       "array(['Victime', 'Infraction', 'Victime entendue', 'Véhicule',\n",
       "       'Mis en cause'], dtype=object)"
      ]
     },
     "execution_count": 8,
     "metadata": {},
     "output_type": "execute_result"
    }
   ],
   "source": [
    "df['unite_de_compte'].unique()"
   ]
  },
  {
   "cell_type": "markdown",
   "id": "6adb7593",
   "metadata": {},
   "source": [
    "## Pré-traitement "
   ]
  },
  {
   "cell_type": "code",
   "execution_count": 9,
   "id": "46377da6",
   "metadata": {},
   "outputs": [
    {
     "data": {
      "text/plain": [
       "array([ 1,  2,  3,  4,  6, 11, 24, 27, 28, 32, 44, 52, 53, 75, 76, 84, 93,\n",
       "       94])"
      ]
     },
     "execution_count": 9,
     "metadata": {},
     "output_type": "execute_result"
    }
   ],
   "source": [
    "# Code region\n",
    "df['Code_region'].unique()"
   ]
  },
  {
   "cell_type": "code",
   "execution_count": 10,
   "id": "bc2b93bc",
   "metadata": {},
   "outputs": [],
   "source": [
    "dict_region = {\n",
    "    1 : \"Guadeloupe\",\n",
    "    2 : \"Martinique\",\n",
    "    3 : \"Guyane\",\n",
    "    4 : \"La Réunion\",\n",
    "    6 : \"Mayotte\",\n",
    "    11 : \"Ile-de-France\",\n",
    "    24 : \"Centre Val de Loire\",\n",
    "    27 : \"Bourgogne\",\n",
    "    28 : \"Normandie\",\n",
    "    32 : \"Hauts de France\",\n",
    "    44 : \"Grand Est\",\n",
    "    52 : \"Pays de la Loire\",\n",
    "    53 : \"Bretagne\",\n",
    "    75 : \"Nouvelle Aquitaine\",\n",
    "    76 : \"Occitanie\",\n",
    "    84 : \"Auvergne-Rhône-Alpes\",\n",
    "    93 : \"Provence-Alpes-Côte d'Azure\",\n",
    "    94 : \"Corse\"\n",
    "}"
   ]
  },
  {
   "cell_type": "raw",
   "id": "c9c6e775",
   "metadata": {},
   "source": [
    "On fait la correspondance entre les codes région et ceux qu'on a dans le dataframe"
   ]
  },
  {
   "cell_type": "code",
   "execution_count": 11,
   "id": "6ca0efcf",
   "metadata": {},
   "outputs": [],
   "source": [
    "df['Code_region'] = df['Code_region'].map(dict_region)\n"
   ]
  },
  {
   "cell_type": "raw",
   "id": "90c1b52c",
   "metadata": {},
   "source": [
    "Traitement sur les valeurs des classes 'indicateur' "
   ]
  },
  {
   "cell_type": "code",
   "execution_count": 12,
   "id": "1737c551",
   "metadata": {},
   "outputs": [],
   "source": [
    "df['indicateur'] = df['indicateur'].replace(\"Usage de stupéfiants (hors AFD)\",\"Usage de stupéfiants\")\n",
    "df['indicateur'] = df['indicateur'].replace(\"Usage de stupéfiants (AFD)\",\"Usage de stupéfiants\")\n",
    "df['indicateur'] = df['indicateur'].replace(\"Vols d'accessoires sur vehicules\",\"Vols dans les véhicules\")\n",
    "df['indicateur'] = df['indicateur'].replace(\"Violences physiques intrafamiliales\",\"Violences physiques inter/intrafamiliales\")\n",
    "df['indicateur'] = df['indicateur'].replace(\"Violences physiques hors cadre familial\",\"Violences physiques inter/intrafamiliales\")"
   ]
  },
  {
   "cell_type": "code",
   "execution_count": null,
   "id": "94873535",
   "metadata": {},
   "outputs": [],
   "source": []
  },
  {
   "cell_type": "markdown",
   "id": "26c94f86",
   "metadata": {},
   "source": [
    "### Début analyse graphique "
   ]
  },
  {
   "cell_type": "code",
   "execution_count": 24,
   "id": "f1dcb50c",
   "metadata": {},
   "outputs": [
    {
     "data": {
      "text/html": [
       "<div>\n",
       "<style scoped>\n",
       "    .dataframe tbody tr th:only-of-type {\n",
       "        vertical-align: middle;\n",
       "    }\n",
       "\n",
       "    .dataframe tbody tr th {\n",
       "        vertical-align: top;\n",
       "    }\n",
       "\n",
       "    .dataframe thead th {\n",
       "        text-align: right;\n",
       "    }\n",
       "</style>\n",
       "<table border=\"1\" class=\"dataframe\">\n",
       "  <thead>\n",
       "    <tr style=\"text-align: right;\">\n",
       "      <th></th>\n",
       "      <th>Code_region</th>\n",
       "      <th>indicateur</th>\n",
       "      <th>nombre</th>\n",
       "      <th>insee_pop</th>\n",
       "    </tr>\n",
       "  </thead>\n",
       "  <tbody>\n",
       "    <tr>\n",
       "      <th>148</th>\n",
       "      <td>Ile-de-France</td>\n",
       "      <td>Vols sans violence contre des personnes</td>\n",
       "      <td>2056922</td>\n",
       "      <td>110499968</td>\n",
       "    </tr>\n",
       "    <tr>\n",
       "      <th>141</th>\n",
       "      <td>Ile-de-France</td>\n",
       "      <td>Usage de stupéfiants</td>\n",
       "      <td>1037450</td>\n",
       "      <td>331499904</td>\n",
       "    </tr>\n",
       "    <tr>\n",
       "      <th>136</th>\n",
       "      <td>Ile-de-France</td>\n",
       "      <td>Destructions et dégradations volontaires</td>\n",
       "      <td>1001105</td>\n",
       "      <td>110499968</td>\n",
       "    </tr>\n",
       "    <tr>\n",
       "      <th>137</th>\n",
       "      <td>Ile-de-France</td>\n",
       "      <td>Escroqueries et fraudes aux moyens de paiement</td>\n",
       "      <td>727791</td>\n",
       "      <td>110499968</td>\n",
       "    </tr>\n",
       "    <tr>\n",
       "      <th>13</th>\n",
       "      <td>Auvergne-Rhône-Alpes</td>\n",
       "      <td>Vols sans violence contre des personnes</td>\n",
       "      <td>675045</td>\n",
       "      <td>72587236</td>\n",
       "    </tr>\n",
       "    <tr>\n",
       "      <th>...</th>\n",
       "      <td>...</td>\n",
       "      <td>...</td>\n",
       "      <td>...</td>\n",
       "      <td>...</td>\n",
       "    </tr>\n",
       "    <tr>\n",
       "      <th>69</th>\n",
       "      <td>Corse</td>\n",
       "      <td>Vols avec armes</td>\n",
       "      <td>185</td>\n",
       "      <td>3089513</td>\n",
       "    </tr>\n",
       "    <tr>\n",
       "      <th>64</th>\n",
       "      <td>Corse</td>\n",
       "      <td>Tentatives d'homicide</td>\n",
       "      <td>177</td>\n",
       "      <td>3089513</td>\n",
       "    </tr>\n",
       "    <tr>\n",
       "      <th>153</th>\n",
       "      <td>La Réunion</td>\n",
       "      <td>Homicides</td>\n",
       "      <td>145</td>\n",
       "      <td>7802038</td>\n",
       "    </tr>\n",
       "    <tr>\n",
       "      <th>63</th>\n",
       "      <td>Corse</td>\n",
       "      <td>Homicides</td>\n",
       "      <td>114</td>\n",
       "      <td>3089513</td>\n",
       "    </tr>\n",
       "    <tr>\n",
       "      <th>183</th>\n",
       "      <td>Mayotte</td>\n",
       "      <td>Homicides</td>\n",
       "      <td>99</td>\n",
       "      <td>2308662</td>\n",
       "    </tr>\n",
       "  </tbody>\n",
       "</table>\n",
       "<p>270 rows × 4 columns</p>\n",
       "</div>"
      ],
      "text/plain": [
       "              Code_region                                      indicateur  \\\n",
       "148         Ile-de-France         Vols sans violence contre des personnes   \n",
       "141         Ile-de-France                            Usage de stupéfiants   \n",
       "136         Ile-de-France        Destructions et dégradations volontaires   \n",
       "137         Ile-de-France  Escroqueries et fraudes aux moyens de paiement   \n",
       "13   Auvergne-Rhône-Alpes         Vols sans violence contre des personnes   \n",
       "..                    ...                                             ...   \n",
       "69                  Corse                                 Vols avec armes   \n",
       "64                  Corse                           Tentatives d'homicide   \n",
       "153            La Réunion                                       Homicides   \n",
       "63                  Corse                                       Homicides   \n",
       "183               Mayotte                                       Homicides   \n",
       "\n",
       "      nombre  insee_pop  \n",
       "148  2056922  110499968  \n",
       "141  1037450  331499904  \n",
       "136  1001105  110499968  \n",
       "137   727791  110499968  \n",
       "13    675045   72587236  \n",
       "..       ...        ...  \n",
       "69       185    3089513  \n",
       "64       177    3089513  \n",
       "153      145    7802038  \n",
       "63       114    3089513  \n",
       "183       99    2308662  \n",
       "\n",
       "[270 rows x 4 columns]"
      ]
     },
     "execution_count": 24,
     "metadata": {},
     "output_type": "execute_result"
    }
   ],
   "source": [
    "sub_df = df.groupby(['Code_region','indicateur'])[['nombre','insee_pop']].sum().reset_index().sort_values(by='nombre',ascending=False)\n",
    "sub_df"
   ]
  },
  {
   "cell_type": "code",
   "execution_count": 25,
   "id": "0011900d",
   "metadata": {},
   "outputs": [
    {
     "data": {
      "application/vnd.plotly.v1+json": {
       "config": {
        "plotlyServerURL": "https://plot.ly"
       },
       "data": [
        {
         "alignmentgroup": "True",
         "hovertemplate": "indicateur=Vols sans violence contre des personnes<br>Code_region=%{x}<br>nombre=%{y}<extra></extra>",
         "legendgroup": "Vols sans violence contre des personnes",
         "marker": {
          "color": "#636efa",
          "pattern": {
           "shape": ""
          }
         },
         "name": "Vols sans violence contre des personnes",
         "offsetgroup": "Vols sans violence contre des personnes",
         "orientation": "v",
         "showlegend": true,
         "textposition": "auto",
         "type": "bar",
         "x": [
          "Ile-de-France",
          "Auvergne-Rhône-Alpes",
          "Provence-Alpes-Côte d'Azure",
          "Occitanie",
          "Nouvelle Aquitaine",
          "Hauts de France",
          "Grand Est",
          "Pays de la Loire",
          "Bretagne",
          "Normandie",
          "Bourgogne",
          "Centre Val de Loire",
          "La Réunion",
          "Guadeloupe",
          "Guyane",
          "Martinique",
          "Corse",
          "Mayotte"
         ],
         "xaxis": "x",
         "y": [
          2056922,
          675045,
          542437,
          514916,
          413329,
          366761,
          318551,
          252031,
          189221,
          171174,
          134841,
          133809,
          33135,
          25728,
          19396,
          18293,
          16272,
          11582
         ],
         "yaxis": "y"
        },
        {
         "alignmentgroup": "True",
         "hovertemplate": "indicateur=Usage de stupéfiants<br>Code_region=%{x}<br>nombre=%{y}<extra></extra>",
         "legendgroup": "Usage de stupéfiants",
         "marker": {
          "color": "#EF553B",
          "pattern": {
           "shape": ""
          }
         },
         "name": "Usage de stupéfiants",
         "offsetgroup": "Usage de stupéfiants",
         "orientation": "v",
         "showlegend": true,
         "textposition": "auto",
         "type": "bar",
         "x": [
          "Ile-de-France",
          "Provence-Alpes-Côte d'Azure",
          "Auvergne-Rhône-Alpes",
          "Hauts de France",
          "Occitanie",
          "Grand Est",
          "Nouvelle Aquitaine",
          "Normandie",
          "Bourgogne",
          "Pays de la Loire",
          "Bretagne",
          "Centre Val de Loire",
          "La Réunion",
          "Guadeloupe",
          "Martinique",
          "Corse",
          "Guyane",
          "Mayotte"
         ],
         "xaxis": "x",
         "y": [
          1037450,
          455764,
          445456,
          369982,
          289562,
          237170,
          232938,
          166178,
          136386,
          135528,
          129900,
          105032,
          30802,
          26764,
          22992,
          13468,
          8888,
          2940
         ],
         "yaxis": "y"
        },
        {
         "alignmentgroup": "True",
         "hovertemplate": "indicateur=Destructions et dégradations volontaires<br>Code_region=%{x}<br>nombre=%{y}<extra></extra>",
         "legendgroup": "Destructions et dégradations volontaires",
         "marker": {
          "color": "#00cc96",
          "pattern": {
           "shape": ""
          }
         },
         "name": "Destructions et dégradations volontaires",
         "offsetgroup": "Destructions et dégradations volontaires",
         "orientation": "v",
         "showlegend": true,
         "textposition": "auto",
         "type": "bar",
         "x": [
          "Ile-de-France",
          "Auvergne-Rhône-Alpes",
          "Hauts de France",
          "Provence-Alpes-Côte d'Azure",
          "Occitanie",
          "Nouvelle Aquitaine",
          "Grand Est",
          "Pays de la Loire",
          "Normandie",
          "Bretagne",
          "Bourgogne",
          "Centre Val de Loire",
          "La Réunion",
          "Corse",
          "Guadeloupe",
          "Martinique",
          "Mayotte",
          "Guyane"
         ],
         "xaxis": "x",
         "y": [
          1001105,
          611485,
          531319,
          483963,
          457183,
          430545,
          393205,
          259461,
          228305,
          220523,
          189325,
          168376,
          47167,
          29107,
          25515,
          20539,
          14440,
          13026
         ],
         "yaxis": "y"
        },
        {
         "alignmentgroup": "True",
         "hovertemplate": "indicateur=Escroqueries et fraudes aux moyens de paiement<br>Code_region=%{x}<br>nombre=%{y}<extra></extra>",
         "legendgroup": "Escroqueries et fraudes aux moyens de paiement",
         "marker": {
          "color": "#ab63fa",
          "pattern": {
           "shape": ""
          }
         },
         "name": "Escroqueries et fraudes aux moyens de paiement",
         "offsetgroup": "Escroqueries et fraudes aux moyens de paiement",
         "orientation": "v",
         "showlegend": true,
         "textposition": "auto",
         "type": "bar",
         "x": [
          "Ile-de-France",
          "Auvergne-Rhône-Alpes",
          "Occitanie",
          "Provence-Alpes-Côte d'Azure",
          "Nouvelle Aquitaine",
          "Hauts de France",
          "Grand Est",
          "Pays de la Loire",
          "Bretagne",
          "Normandie",
          "Bourgogne",
          "Centre Val de Loire",
          "La Réunion",
          "Guadeloupe",
          "Corse",
          "Martinique",
          "Guyane",
          "Mayotte"
         ],
         "xaxis": "x",
         "y": [
          727791,
          353085,
          265200,
          249996,
          243842,
          217694,
          198230,
          149979,
          128929,
          122129,
          108756,
          107053,
          16476,
          12417,
          11615,
          9653,
          5844,
          2784
         ],
         "yaxis": "y"
        },
        {
         "alignmentgroup": "True",
         "hovertemplate": "indicateur=Violences physiques inter/intrafamiliales<br>Code_region=%{x}<br>nombre=%{y}<extra></extra>",
         "legendgroup": "Violences physiques inter/intrafamiliales",
         "marker": {
          "color": "#FFA15A",
          "pattern": {
           "shape": ""
          }
         },
         "name": "Violences physiques inter/intrafamiliales",
         "offsetgroup": "Violences physiques inter/intrafamiliales",
         "orientation": "v",
         "showlegend": true,
         "textposition": "auto",
         "type": "bar",
         "x": [
          "Ile-de-France",
          "Hauts de France",
          "Auvergne-Rhône-Alpes",
          "Provence-Alpes-Côte d'Azure",
          "Occitanie",
          "Grand Est",
          "Nouvelle Aquitaine",
          "Pays de la Loire",
          "Normandie",
          "Bretagne",
          "Bourgogne",
          "Centre Val de Loire",
          "La Réunion",
          "Guadeloupe",
          "Guyane",
          "Martinique",
          "Mayotte",
          "Corse"
         ],
         "xaxis": "x",
         "y": [
          651068,
          356432,
          346578,
          272213,
          268455,
          261227,
          239126,
          148232,
          145753,
          123186,
          121412,
          111898,
          59080,
          31894,
          29271,
          28383,
          20778,
          12970
         ],
         "yaxis": "y"
        },
        {
         "alignmentgroup": "True",
         "hovertemplate": "indicateur=Vols dans les véhicules<br>Code_region=%{x}<br>nombre=%{y}<extra></extra>",
         "legendgroup": "Vols dans les véhicules",
         "marker": {
          "color": "#19d3f3",
          "pattern": {
           "shape": ""
          }
         },
         "name": "Vols dans les véhicules",
         "offsetgroup": "Vols dans les véhicules",
         "orientation": "v",
         "showlegend": true,
         "textposition": "auto",
         "type": "bar",
         "x": [
          "Ile-de-France",
          "Auvergne-Rhône-Alpes",
          "Occitanie",
          "Provence-Alpes-Côte d'Azure",
          "Hauts de France",
          "Nouvelle Aquitaine",
          "Pays de la Loire",
          "Grand Est",
          "Normandie",
          "Bretagne",
          "Centre Val de Loire",
          "Bourgogne",
          "La Réunion",
          "Guadeloupe",
          "Guyane",
          "Martinique",
          "Mayotte",
          "Corse"
         ],
         "xaxis": "x",
         "y": [
          515653,
          320513,
          238880,
          236878,
          216042,
          178582,
          143633,
          116049,
          81751,
          64190,
          57967,
          47894,
          19854,
          18748,
          13123,
          11817,
          4429,
          3406
         ],
         "yaxis": "y"
        },
        {
         "alignmentgroup": "True",
         "hovertemplate": "indicateur=Cambriolages de logement<br>Code_region=%{x}<br>nombre=%{y}<extra></extra>",
         "legendgroup": "Cambriolages de logement",
         "marker": {
          "color": "#FF6692",
          "pattern": {
           "shape": ""
          }
         },
         "name": "Cambriolages de logement",
         "offsetgroup": "Cambriolages de logement",
         "orientation": "v",
         "showlegend": true,
         "textposition": "auto",
         "type": "bar",
         "x": [
          "Ile-de-France",
          "Auvergne-Rhône-Alpes",
          "Provence-Alpes-Côte d'Azure",
          "Occitanie",
          "Nouvelle Aquitaine",
          "Hauts de France",
          "Grand Est",
          "Pays de la Loire",
          "Centre Val de Loire",
          "Normandie",
          "Bretagne",
          "Bourgogne",
          "Guadeloupe",
          "La Réunion",
          "Guyane",
          "Martinique",
          "Mayotte",
          "Corse"
         ],
         "xaxis": "x",
         "y": [
          409921,
          281832,
          215726,
          211122,
          178380,
          168339,
          118945,
          100910,
          68156,
          66881,
          66716,
          61712,
          12466,
          11406,
          10277,
          9076,
          5459,
          3870
         ],
         "yaxis": "y"
        },
        {
         "alignmentgroup": "True",
         "hovertemplate": "indicateur=Vols de véhicule<br>Code_region=%{x}<br>nombre=%{y}<extra></extra>",
         "legendgroup": "Vols de véhicule",
         "marker": {
          "color": "#B6E880",
          "pattern": {
           "shape": ""
          }
         },
         "name": "Vols de véhicule",
         "offsetgroup": "Vols de véhicule",
         "orientation": "v",
         "showlegend": true,
         "textposition": "auto",
         "type": "bar",
         "x": [
          "Ile-de-France",
          "Provence-Alpes-Côte d'Azure",
          "Auvergne-Rhône-Alpes",
          "Hauts de France",
          "Occitanie",
          "Nouvelle Aquitaine",
          "Pays de la Loire",
          "Grand Est",
          "Normandie",
          "Centre Val de Loire",
          "Bretagne",
          "Bourgogne",
          "La Réunion",
          "Guadeloupe",
          "Guyane",
          "Corse",
          "Martinique",
          "Mayotte"
         ],
         "xaxis": "x",
         "y": [
          340051,
          156386,
          151675,
          126215,
          98047,
          82259,
          64659,
          56563,
          42186,
          34839,
          32932,
          32870,
          10172,
          6718,
          6428,
          5638,
          5077,
          4093
         ],
         "yaxis": "y"
        },
        {
         "alignmentgroup": "True",
         "hovertemplate": "indicateur=Vols violents sans arme<br>Code_region=%{x}<br>nombre=%{y}<extra></extra>",
         "legendgroup": "Vols violents sans arme",
         "marker": {
          "color": "#FF97FF",
          "pattern": {
           "shape": ""
          }
         },
         "name": "Vols violents sans arme",
         "offsetgroup": "Vols violents sans arme",
         "orientation": "v",
         "showlegend": true,
         "textposition": "auto",
         "type": "bar",
         "x": [
          "Ile-de-France",
          "Provence-Alpes-Côte d'Azure",
          "Auvergne-Rhône-Alpes",
          "Hauts de France",
          "Occitanie",
          "Nouvelle Aquitaine",
          "Grand Est",
          "Pays de la Loire",
          "Normandie",
          "Bretagne",
          "Centre Val de Loire",
          "Bourgogne",
          "Guyane",
          "La Réunion",
          "Mayotte",
          "Guadeloupe",
          "Martinique",
          "Corse"
         ],
         "xaxis": "x",
         "y": [
          293896,
          59091,
          56219,
          44346,
          43752,
          27178,
          20510,
          19037,
          15873,
          12227,
          10733,
          7753,
          7700,
          6119,
          4808,
          4705,
          3233,
          689
         ],
         "yaxis": "y"
        },
        {
         "alignmentgroup": "True",
         "hovertemplate": "indicateur=Vols d'accessoires sur véhicules<br>Code_region=%{x}<br>nombre=%{y}<extra></extra>",
         "legendgroup": "Vols d'accessoires sur véhicules",
         "marker": {
          "color": "#FECB52",
          "pattern": {
           "shape": ""
          }
         },
         "name": "Vols d'accessoires sur véhicules",
         "offsetgroup": "Vols d'accessoires sur véhicules",
         "orientation": "v",
         "showlegend": true,
         "textposition": "auto",
         "type": "bar",
         "x": [
          "Ile-de-France",
          "Auvergne-Rhône-Alpes",
          "Hauts de France",
          "Provence-Alpes-Côte d'Azure",
          "Occitanie",
          "Nouvelle Aquitaine",
          "Pays de la Loire",
          "Grand Est",
          "Normandie",
          "Bretagne",
          "Centre Val de Loire",
          "Bourgogne",
          "La Réunion",
          "Guadeloupe",
          "Corse",
          "Martinique",
          "Guyane",
          "Mayotte"
         ],
         "xaxis": "x",
         "y": [
          186767,
          102375,
          88468,
          80541,
          72183,
          60690,
          57836,
          46730,
          33746,
          32736,
          32194,
          28703,
          4469,
          4241,
          2924,
          2666,
          1436,
          735
         ],
         "yaxis": "y"
        },
        {
         "alignmentgroup": "True",
         "hovertemplate": "indicateur=Violences sexuelles<br>Code_region=%{x}<br>nombre=%{y}<extra></extra>",
         "legendgroup": "Violences sexuelles",
         "marker": {
          "color": "#636efa",
          "pattern": {
           "shape": ""
          }
         },
         "name": "Violences sexuelles",
         "offsetgroup": "Violences sexuelles",
         "orientation": "v",
         "showlegend": true,
         "textposition": "auto",
         "type": "bar",
         "x": [
          "Ile-de-France",
          "Auvergne-Rhône-Alpes",
          "Hauts de France",
          "Nouvelle Aquitaine",
          "Occitanie",
          "Grand Est",
          "Provence-Alpes-Côte d'Azure",
          "Pays de la Loire",
          "Normandie",
          "Bretagne",
          "Bourgogne",
          "Centre Val de Loire",
          "La Réunion",
          "Guyane",
          "Martinique",
          "Guadeloupe",
          "Mayotte",
          "Corse"
         ],
         "xaxis": "x",
         "y": [
          140537,
          80983,
          80912,
          69791,
          63839,
          60385,
          50717,
          45969,
          41573,
          36269,
          31277,
          31112,
          13331,
          5165,
          5085,
          4873,
          3304,
          2706
         ],
         "yaxis": "y"
        },
        {
         "alignmentgroup": "True",
         "hovertemplate": "indicateur=Trafic de stupéfiants<br>Code_region=%{x}<br>nombre=%{y}<extra></extra>",
         "legendgroup": "Trafic de stupéfiants",
         "marker": {
          "color": "#EF553B",
          "pattern": {
           "shape": ""
          }
         },
         "name": "Trafic de stupéfiants",
         "offsetgroup": "Trafic de stupéfiants",
         "orientation": "v",
         "showlegend": true,
         "textposition": "auto",
         "type": "bar",
         "x": [
          "Ile-de-France",
          "Provence-Alpes-Côte d'Azure",
          "Auvergne-Rhône-Alpes",
          "Occitanie",
          "Hauts de France",
          "Nouvelle Aquitaine",
          "Grand Est",
          "Bretagne",
          "Bourgogne",
          "Pays de la Loire",
          "Normandie",
          "Centre Val de Loire",
          "Guyane",
          "Martinique",
          "Guadeloupe",
          "La Réunion",
          "Corse",
          "Mayotte"
         ],
         "xaxis": "x",
         "y": [
          131899,
          47586,
          41646,
          34801,
          29234,
          26449,
          25044,
          14554,
          13829,
          13509,
          12572,
          8815,
          6154,
          3052,
          2407,
          2315,
          1598,
          639
         ],
         "yaxis": "y"
        },
        {
         "alignmentgroup": "True",
         "hovertemplate": "indicateur=Vols avec armes<br>Code_region=%{x}<br>nombre=%{y}<extra></extra>",
         "legendgroup": "Vols avec armes",
         "marker": {
          "color": "#00cc96",
          "pattern": {
           "shape": ""
          }
         },
         "name": "Vols avec armes",
         "offsetgroup": "Vols avec armes",
         "orientation": "v",
         "showlegend": true,
         "textposition": "auto",
         "type": "bar",
         "x": [
          "Ile-de-France",
          "Provence-Alpes-Côte d'Azure",
          "Auvergne-Rhône-Alpes",
          "Guyane",
          "Hauts de France",
          "Occitanie",
          "Guadeloupe",
          "Mayotte",
          "Nouvelle Aquitaine",
          "Grand Est",
          "Pays de la Loire",
          "Martinique",
          "Normandie",
          "Bourgogne",
          "Bretagne",
          "Centre Val de Loire",
          "La Réunion",
          "Corse"
         ],
         "xaxis": "x",
         "y": [
          21144,
          8720,
          7545,
          6872,
          5442,
          5057,
          4338,
          4092,
          3299,
          2979,
          2803,
          2324,
          1868,
          1648,
          1512,
          1468,
          622,
          185
         ],
         "yaxis": "y"
        },
        {
         "alignmentgroup": "True",
         "hovertemplate": "indicateur=Tentatives d'homicide<br>Code_region=%{x}<br>nombre=%{y}<extra></extra>",
         "legendgroup": "Tentatives d'homicide",
         "marker": {
          "color": "#ab63fa",
          "pattern": {
           "shape": ""
          }
         },
         "name": "Tentatives d'homicide",
         "offsetgroup": "Tentatives d'homicide",
         "orientation": "v",
         "showlegend": true,
         "textposition": "auto",
         "type": "bar",
         "x": [
          "Ile-de-France",
          "Provence-Alpes-Côte d'Azure",
          "Auvergne-Rhône-Alpes",
          "Occitanie",
          "Hauts de France",
          "Grand Est",
          "Nouvelle Aquitaine",
          "Guyane",
          "Pays de la Loire",
          "Guadeloupe",
          "Martinique",
          "Bourgogne",
          "Normandie",
          "Centre Val de Loire",
          "Bretagne",
          "La Réunion",
          "Mayotte",
          "Corse"
         ],
         "xaxis": "x",
         "y": [
          6407,
          2786,
          2592,
          2231,
          1992,
          1765,
          1634,
          1400,
          1111,
          944,
          900,
          889,
          811,
          806,
          779,
          340,
          319,
          177
         ],
         "yaxis": "y"
        },
        {
         "alignmentgroup": "True",
         "hovertemplate": "indicateur=Homicides<br>Code_region=%{x}<br>nombre=%{y}<extra></extra>",
         "legendgroup": "Homicides",
         "marker": {
          "color": "#FFA15A",
          "pattern": {
           "shape": ""
          }
         },
         "name": "Homicides",
         "offsetgroup": "Homicides",
         "orientation": "v",
         "showlegend": true,
         "textposition": "auto",
         "type": "bar",
         "x": [
          "Ile-de-France",
          "Provence-Alpes-Côte d'Azure",
          "Auvergne-Rhône-Alpes",
          "Hauts de France",
          "Occitanie",
          "Nouvelle Aquitaine",
          "Grand Est",
          "Guyane",
          "Pays de la Loire",
          "Normandie",
          "Bretagne",
          "Bourgogne",
          "Guadeloupe",
          "Centre Val de Loire",
          "Martinique",
          "La Réunion",
          "Corse",
          "Mayotte"
         ],
         "xaxis": "x",
         "y": [
          1270,
          1072,
          766,
          657,
          648,
          581,
          499,
          350,
          327,
          319,
          275,
          241,
          240,
          230,
          194,
          145,
          114,
          99
         ],
         "yaxis": "y"
        }
       ],
       "layout": {
        "barmode": "relative",
        "height": 800,
        "legend": {
         "title": {
          "text": "indicateur"
         },
         "tracegroupgap": 0
        },
        "margin": {
         "t": 60
        },
        "template": {
         "data": {
          "bar": [
           {
            "error_x": {
             "color": "#2a3f5f"
            },
            "error_y": {
             "color": "#2a3f5f"
            },
            "marker": {
             "line": {
              "color": "#E5ECF6",
              "width": 0.5
             },
             "pattern": {
              "fillmode": "overlay",
              "size": 10,
              "solidity": 0.2
             }
            },
            "type": "bar"
           }
          ],
          "barpolar": [
           {
            "marker": {
             "line": {
              "color": "#E5ECF6",
              "width": 0.5
             },
             "pattern": {
              "fillmode": "overlay",
              "size": 10,
              "solidity": 0.2
             }
            },
            "type": "barpolar"
           }
          ],
          "carpet": [
           {
            "aaxis": {
             "endlinecolor": "#2a3f5f",
             "gridcolor": "white",
             "linecolor": "white",
             "minorgridcolor": "white",
             "startlinecolor": "#2a3f5f"
            },
            "baxis": {
             "endlinecolor": "#2a3f5f",
             "gridcolor": "white",
             "linecolor": "white",
             "minorgridcolor": "white",
             "startlinecolor": "#2a3f5f"
            },
            "type": "carpet"
           }
          ],
          "choropleth": [
           {
            "colorbar": {
             "outlinewidth": 0,
             "ticks": ""
            },
            "type": "choropleth"
           }
          ],
          "contour": [
           {
            "colorbar": {
             "outlinewidth": 0,
             "ticks": ""
            },
            "colorscale": [
             [
              0,
              "#0d0887"
             ],
             [
              0.1111111111111111,
              "#46039f"
             ],
             [
              0.2222222222222222,
              "#7201a8"
             ],
             [
              0.3333333333333333,
              "#9c179e"
             ],
             [
              0.4444444444444444,
              "#bd3786"
             ],
             [
              0.5555555555555556,
              "#d8576b"
             ],
             [
              0.6666666666666666,
              "#ed7953"
             ],
             [
              0.7777777777777778,
              "#fb9f3a"
             ],
             [
              0.8888888888888888,
              "#fdca26"
             ],
             [
              1,
              "#f0f921"
             ]
            ],
            "type": "contour"
           }
          ],
          "contourcarpet": [
           {
            "colorbar": {
             "outlinewidth": 0,
             "ticks": ""
            },
            "type": "contourcarpet"
           }
          ],
          "heatmap": [
           {
            "colorbar": {
             "outlinewidth": 0,
             "ticks": ""
            },
            "colorscale": [
             [
              0,
              "#0d0887"
             ],
             [
              0.1111111111111111,
              "#46039f"
             ],
             [
              0.2222222222222222,
              "#7201a8"
             ],
             [
              0.3333333333333333,
              "#9c179e"
             ],
             [
              0.4444444444444444,
              "#bd3786"
             ],
             [
              0.5555555555555556,
              "#d8576b"
             ],
             [
              0.6666666666666666,
              "#ed7953"
             ],
             [
              0.7777777777777778,
              "#fb9f3a"
             ],
             [
              0.8888888888888888,
              "#fdca26"
             ],
             [
              1,
              "#f0f921"
             ]
            ],
            "type": "heatmap"
           }
          ],
          "heatmapgl": [
           {
            "colorbar": {
             "outlinewidth": 0,
             "ticks": ""
            },
            "colorscale": [
             [
              0,
              "#0d0887"
             ],
             [
              0.1111111111111111,
              "#46039f"
             ],
             [
              0.2222222222222222,
              "#7201a8"
             ],
             [
              0.3333333333333333,
              "#9c179e"
             ],
             [
              0.4444444444444444,
              "#bd3786"
             ],
             [
              0.5555555555555556,
              "#d8576b"
             ],
             [
              0.6666666666666666,
              "#ed7953"
             ],
             [
              0.7777777777777778,
              "#fb9f3a"
             ],
             [
              0.8888888888888888,
              "#fdca26"
             ],
             [
              1,
              "#f0f921"
             ]
            ],
            "type": "heatmapgl"
           }
          ],
          "histogram": [
           {
            "marker": {
             "pattern": {
              "fillmode": "overlay",
              "size": 10,
              "solidity": 0.2
             }
            },
            "type": "histogram"
           }
          ],
          "histogram2d": [
           {
            "colorbar": {
             "outlinewidth": 0,
             "ticks": ""
            },
            "colorscale": [
             [
              0,
              "#0d0887"
             ],
             [
              0.1111111111111111,
              "#46039f"
             ],
             [
              0.2222222222222222,
              "#7201a8"
             ],
             [
              0.3333333333333333,
              "#9c179e"
             ],
             [
              0.4444444444444444,
              "#bd3786"
             ],
             [
              0.5555555555555556,
              "#d8576b"
             ],
             [
              0.6666666666666666,
              "#ed7953"
             ],
             [
              0.7777777777777778,
              "#fb9f3a"
             ],
             [
              0.8888888888888888,
              "#fdca26"
             ],
             [
              1,
              "#f0f921"
             ]
            ],
            "type": "histogram2d"
           }
          ],
          "histogram2dcontour": [
           {
            "colorbar": {
             "outlinewidth": 0,
             "ticks": ""
            },
            "colorscale": [
             [
              0,
              "#0d0887"
             ],
             [
              0.1111111111111111,
              "#46039f"
             ],
             [
              0.2222222222222222,
              "#7201a8"
             ],
             [
              0.3333333333333333,
              "#9c179e"
             ],
             [
              0.4444444444444444,
              "#bd3786"
             ],
             [
              0.5555555555555556,
              "#d8576b"
             ],
             [
              0.6666666666666666,
              "#ed7953"
             ],
             [
              0.7777777777777778,
              "#fb9f3a"
             ],
             [
              0.8888888888888888,
              "#fdca26"
             ],
             [
              1,
              "#f0f921"
             ]
            ],
            "type": "histogram2dcontour"
           }
          ],
          "mesh3d": [
           {
            "colorbar": {
             "outlinewidth": 0,
             "ticks": ""
            },
            "type": "mesh3d"
           }
          ],
          "parcoords": [
           {
            "line": {
             "colorbar": {
              "outlinewidth": 0,
              "ticks": ""
             }
            },
            "type": "parcoords"
           }
          ],
          "pie": [
           {
            "automargin": true,
            "type": "pie"
           }
          ],
          "scatter": [
           {
            "fillpattern": {
             "fillmode": "overlay",
             "size": 10,
             "solidity": 0.2
            },
            "type": "scatter"
           }
          ],
          "scatter3d": [
           {
            "line": {
             "colorbar": {
              "outlinewidth": 0,
              "ticks": ""
             }
            },
            "marker": {
             "colorbar": {
              "outlinewidth": 0,
              "ticks": ""
             }
            },
            "type": "scatter3d"
           }
          ],
          "scattercarpet": [
           {
            "marker": {
             "colorbar": {
              "outlinewidth": 0,
              "ticks": ""
             }
            },
            "type": "scattercarpet"
           }
          ],
          "scattergeo": [
           {
            "marker": {
             "colorbar": {
              "outlinewidth": 0,
              "ticks": ""
             }
            },
            "type": "scattergeo"
           }
          ],
          "scattergl": [
           {
            "marker": {
             "colorbar": {
              "outlinewidth": 0,
              "ticks": ""
             }
            },
            "type": "scattergl"
           }
          ],
          "scattermapbox": [
           {
            "marker": {
             "colorbar": {
              "outlinewidth": 0,
              "ticks": ""
             }
            },
            "type": "scattermapbox"
           }
          ],
          "scatterpolar": [
           {
            "marker": {
             "colorbar": {
              "outlinewidth": 0,
              "ticks": ""
             }
            },
            "type": "scatterpolar"
           }
          ],
          "scatterpolargl": [
           {
            "marker": {
             "colorbar": {
              "outlinewidth": 0,
              "ticks": ""
             }
            },
            "type": "scatterpolargl"
           }
          ],
          "scatterternary": [
           {
            "marker": {
             "colorbar": {
              "outlinewidth": 0,
              "ticks": ""
             }
            },
            "type": "scatterternary"
           }
          ],
          "surface": [
           {
            "colorbar": {
             "outlinewidth": 0,
             "ticks": ""
            },
            "colorscale": [
             [
              0,
              "#0d0887"
             ],
             [
              0.1111111111111111,
              "#46039f"
             ],
             [
              0.2222222222222222,
              "#7201a8"
             ],
             [
              0.3333333333333333,
              "#9c179e"
             ],
             [
              0.4444444444444444,
              "#bd3786"
             ],
             [
              0.5555555555555556,
              "#d8576b"
             ],
             [
              0.6666666666666666,
              "#ed7953"
             ],
             [
              0.7777777777777778,
              "#fb9f3a"
             ],
             [
              0.8888888888888888,
              "#fdca26"
             ],
             [
              1,
              "#f0f921"
             ]
            ],
            "type": "surface"
           }
          ],
          "table": [
           {
            "cells": {
             "fill": {
              "color": "#EBF0F8"
             },
             "line": {
              "color": "white"
             }
            },
            "header": {
             "fill": {
              "color": "#C8D4E3"
             },
             "line": {
              "color": "white"
             }
            },
            "type": "table"
           }
          ]
         },
         "layout": {
          "annotationdefaults": {
           "arrowcolor": "#2a3f5f",
           "arrowhead": 0,
           "arrowwidth": 1
          },
          "autotypenumbers": "strict",
          "coloraxis": {
           "colorbar": {
            "outlinewidth": 0,
            "ticks": ""
           }
          },
          "colorscale": {
           "diverging": [
            [
             0,
             "#8e0152"
            ],
            [
             0.1,
             "#c51b7d"
            ],
            [
             0.2,
             "#de77ae"
            ],
            [
             0.3,
             "#f1b6da"
            ],
            [
             0.4,
             "#fde0ef"
            ],
            [
             0.5,
             "#f7f7f7"
            ],
            [
             0.6,
             "#e6f5d0"
            ],
            [
             0.7,
             "#b8e186"
            ],
            [
             0.8,
             "#7fbc41"
            ],
            [
             0.9,
             "#4d9221"
            ],
            [
             1,
             "#276419"
            ]
           ],
           "sequential": [
            [
             0,
             "#0d0887"
            ],
            [
             0.1111111111111111,
             "#46039f"
            ],
            [
             0.2222222222222222,
             "#7201a8"
            ],
            [
             0.3333333333333333,
             "#9c179e"
            ],
            [
             0.4444444444444444,
             "#bd3786"
            ],
            [
             0.5555555555555556,
             "#d8576b"
            ],
            [
             0.6666666666666666,
             "#ed7953"
            ],
            [
             0.7777777777777778,
             "#fb9f3a"
            ],
            [
             0.8888888888888888,
             "#fdca26"
            ],
            [
             1,
             "#f0f921"
            ]
           ],
           "sequentialminus": [
            [
             0,
             "#0d0887"
            ],
            [
             0.1111111111111111,
             "#46039f"
            ],
            [
             0.2222222222222222,
             "#7201a8"
            ],
            [
             0.3333333333333333,
             "#9c179e"
            ],
            [
             0.4444444444444444,
             "#bd3786"
            ],
            [
             0.5555555555555556,
             "#d8576b"
            ],
            [
             0.6666666666666666,
             "#ed7953"
            ],
            [
             0.7777777777777778,
             "#fb9f3a"
            ],
            [
             0.8888888888888888,
             "#fdca26"
            ],
            [
             1,
             "#f0f921"
            ]
           ]
          },
          "colorway": [
           "#636efa",
           "#EF553B",
           "#00cc96",
           "#ab63fa",
           "#FFA15A",
           "#19d3f3",
           "#FF6692",
           "#B6E880",
           "#FF97FF",
           "#FECB52"
          ],
          "font": {
           "color": "#2a3f5f"
          },
          "geo": {
           "bgcolor": "white",
           "lakecolor": "white",
           "landcolor": "#E5ECF6",
           "showlakes": true,
           "showland": true,
           "subunitcolor": "white"
          },
          "hoverlabel": {
           "align": "left"
          },
          "hovermode": "closest",
          "mapbox": {
           "style": "light"
          },
          "paper_bgcolor": "white",
          "plot_bgcolor": "#E5ECF6",
          "polar": {
           "angularaxis": {
            "gridcolor": "white",
            "linecolor": "white",
            "ticks": ""
           },
           "bgcolor": "#E5ECF6",
           "radialaxis": {
            "gridcolor": "white",
            "linecolor": "white",
            "ticks": ""
           }
          },
          "scene": {
           "xaxis": {
            "backgroundcolor": "#E5ECF6",
            "gridcolor": "white",
            "gridwidth": 2,
            "linecolor": "white",
            "showbackground": true,
            "ticks": "",
            "zerolinecolor": "white"
           },
           "yaxis": {
            "backgroundcolor": "#E5ECF6",
            "gridcolor": "white",
            "gridwidth": 2,
            "linecolor": "white",
            "showbackground": true,
            "ticks": "",
            "zerolinecolor": "white"
           },
           "zaxis": {
            "backgroundcolor": "#E5ECF6",
            "gridcolor": "white",
            "gridwidth": 2,
            "linecolor": "white",
            "showbackground": true,
            "ticks": "",
            "zerolinecolor": "white"
           }
          },
          "shapedefaults": {
           "line": {
            "color": "#2a3f5f"
           }
          },
          "ternary": {
           "aaxis": {
            "gridcolor": "white",
            "linecolor": "white",
            "ticks": ""
           },
           "baxis": {
            "gridcolor": "white",
            "linecolor": "white",
            "ticks": ""
           },
           "bgcolor": "#E5ECF6",
           "caxis": {
            "gridcolor": "white",
            "linecolor": "white",
            "ticks": ""
           }
          },
          "title": {
           "x": 0.05
          },
          "xaxis": {
           "automargin": true,
           "gridcolor": "white",
           "linecolor": "white",
           "ticks": "",
           "title": {
            "standoff": 15
           },
           "zerolinecolor": "white",
           "zerolinewidth": 2
          },
          "yaxis": {
           "automargin": true,
           "gridcolor": "white",
           "linecolor": "white",
           "ticks": "",
           "title": {
            "standoff": 15
           },
           "zerolinecolor": "white",
           "zerolinewidth": 2
          }
         }
        },
        "xaxis": {
         "anchor": "y",
         "domain": [
          0,
          1
         ],
         "title": {
          "text": "Code_region"
         }
        },
        "yaxis": {
         "anchor": "x",
         "domain": [
          0,
          1
         ],
         "title": {
          "text": "nombre"
         }
        }
       }
      },
      "text/html": [
       "<div>                            <div id=\"5717b55a-44cd-4885-bf05-d7049d34519c\" class=\"plotly-graph-div\" style=\"height:800px; width:100%;\"></div>            <script type=\"text/javascript\">                require([\"plotly\"], function(Plotly) {                    window.PLOTLYENV=window.PLOTLYENV || {};                                    if (document.getElementById(\"5717b55a-44cd-4885-bf05-d7049d34519c\")) {                    Plotly.newPlot(                        \"5717b55a-44cd-4885-bf05-d7049d34519c\",                        [{\"alignmentgroup\":\"True\",\"hovertemplate\":\"indicateur=Vols sans violence contre des personnes<br>Code_region=%{x}<br>nombre=%{y}<extra></extra>\",\"legendgroup\":\"Vols sans violence contre des personnes\",\"marker\":{\"color\":\"#636efa\",\"pattern\":{\"shape\":\"\"}},\"name\":\"Vols sans violence contre des personnes\",\"offsetgroup\":\"Vols sans violence contre des personnes\",\"orientation\":\"v\",\"showlegend\":true,\"textposition\":\"auto\",\"x\":[\"Ile-de-France\",\"Auvergne-Rh\\u00f4ne-Alpes\",\"Provence-Alpes-C\\u00f4te d'Azure\",\"Occitanie\",\"Nouvelle Aquitaine\",\"Hauts de France\",\"Grand Est\",\"Pays de la Loire\",\"Bretagne\",\"Normandie\",\"Bourgogne\",\"Centre Val de Loire\",\"La R\\u00e9union\",\"Guadeloupe\",\"Guyane\",\"Martinique\",\"Corse\",\"Mayotte\"],\"xaxis\":\"x\",\"y\":[2056922,675045,542437,514916,413329,366761,318551,252031,189221,171174,134841,133809,33135,25728,19396,18293,16272,11582],\"yaxis\":\"y\",\"type\":\"bar\"},{\"alignmentgroup\":\"True\",\"hovertemplate\":\"indicateur=Usage de stup\\u00e9fiants<br>Code_region=%{x}<br>nombre=%{y}<extra></extra>\",\"legendgroup\":\"Usage de stup\\u00e9fiants\",\"marker\":{\"color\":\"#EF553B\",\"pattern\":{\"shape\":\"\"}},\"name\":\"Usage de stup\\u00e9fiants\",\"offsetgroup\":\"Usage de stup\\u00e9fiants\",\"orientation\":\"v\",\"showlegend\":true,\"textposition\":\"auto\",\"x\":[\"Ile-de-France\",\"Provence-Alpes-C\\u00f4te d'Azure\",\"Auvergne-Rh\\u00f4ne-Alpes\",\"Hauts de France\",\"Occitanie\",\"Grand Est\",\"Nouvelle Aquitaine\",\"Normandie\",\"Bourgogne\",\"Pays de la Loire\",\"Bretagne\",\"Centre Val de Loire\",\"La R\\u00e9union\",\"Guadeloupe\",\"Martinique\",\"Corse\",\"Guyane\",\"Mayotte\"],\"xaxis\":\"x\",\"y\":[1037450,455764,445456,369982,289562,237170,232938,166178,136386,135528,129900,105032,30802,26764,22992,13468,8888,2940],\"yaxis\":\"y\",\"type\":\"bar\"},{\"alignmentgroup\":\"True\",\"hovertemplate\":\"indicateur=Destructions et d\\u00e9gradations volontaires<br>Code_region=%{x}<br>nombre=%{y}<extra></extra>\",\"legendgroup\":\"Destructions et d\\u00e9gradations volontaires\",\"marker\":{\"color\":\"#00cc96\",\"pattern\":{\"shape\":\"\"}},\"name\":\"Destructions et d\\u00e9gradations volontaires\",\"offsetgroup\":\"Destructions et d\\u00e9gradations volontaires\",\"orientation\":\"v\",\"showlegend\":true,\"textposition\":\"auto\",\"x\":[\"Ile-de-France\",\"Auvergne-Rh\\u00f4ne-Alpes\",\"Hauts de France\",\"Provence-Alpes-C\\u00f4te d'Azure\",\"Occitanie\",\"Nouvelle Aquitaine\",\"Grand Est\",\"Pays de la Loire\",\"Normandie\",\"Bretagne\",\"Bourgogne\",\"Centre Val de Loire\",\"La R\\u00e9union\",\"Corse\",\"Guadeloupe\",\"Martinique\",\"Mayotte\",\"Guyane\"],\"xaxis\":\"x\",\"y\":[1001105,611485,531319,483963,457183,430545,393205,259461,228305,220523,189325,168376,47167,29107,25515,20539,14440,13026],\"yaxis\":\"y\",\"type\":\"bar\"},{\"alignmentgroup\":\"True\",\"hovertemplate\":\"indicateur=Escroqueries et fraudes aux moyens de paiement<br>Code_region=%{x}<br>nombre=%{y}<extra></extra>\",\"legendgroup\":\"Escroqueries et fraudes aux moyens de paiement\",\"marker\":{\"color\":\"#ab63fa\",\"pattern\":{\"shape\":\"\"}},\"name\":\"Escroqueries et fraudes aux moyens de paiement\",\"offsetgroup\":\"Escroqueries et fraudes aux moyens de paiement\",\"orientation\":\"v\",\"showlegend\":true,\"textposition\":\"auto\",\"x\":[\"Ile-de-France\",\"Auvergne-Rh\\u00f4ne-Alpes\",\"Occitanie\",\"Provence-Alpes-C\\u00f4te d'Azure\",\"Nouvelle Aquitaine\",\"Hauts de France\",\"Grand Est\",\"Pays de la Loire\",\"Bretagne\",\"Normandie\",\"Bourgogne\",\"Centre Val de Loire\",\"La R\\u00e9union\",\"Guadeloupe\",\"Corse\",\"Martinique\",\"Guyane\",\"Mayotte\"],\"xaxis\":\"x\",\"y\":[727791,353085,265200,249996,243842,217694,198230,149979,128929,122129,108756,107053,16476,12417,11615,9653,5844,2784],\"yaxis\":\"y\",\"type\":\"bar\"},{\"alignmentgroup\":\"True\",\"hovertemplate\":\"indicateur=Violences physiques inter/intrafamiliales<br>Code_region=%{x}<br>nombre=%{y}<extra></extra>\",\"legendgroup\":\"Violences physiques inter/intrafamiliales\",\"marker\":{\"color\":\"#FFA15A\",\"pattern\":{\"shape\":\"\"}},\"name\":\"Violences physiques inter/intrafamiliales\",\"offsetgroup\":\"Violences physiques inter/intrafamiliales\",\"orientation\":\"v\",\"showlegend\":true,\"textposition\":\"auto\",\"x\":[\"Ile-de-France\",\"Hauts de France\",\"Auvergne-Rh\\u00f4ne-Alpes\",\"Provence-Alpes-C\\u00f4te d'Azure\",\"Occitanie\",\"Grand Est\",\"Nouvelle Aquitaine\",\"Pays de la Loire\",\"Normandie\",\"Bretagne\",\"Bourgogne\",\"Centre Val de Loire\",\"La R\\u00e9union\",\"Guadeloupe\",\"Guyane\",\"Martinique\",\"Mayotte\",\"Corse\"],\"xaxis\":\"x\",\"y\":[651068,356432,346578,272213,268455,261227,239126,148232,145753,123186,121412,111898,59080,31894,29271,28383,20778,12970],\"yaxis\":\"y\",\"type\":\"bar\"},{\"alignmentgroup\":\"True\",\"hovertemplate\":\"indicateur=Vols dans les v\\u00e9hicules<br>Code_region=%{x}<br>nombre=%{y}<extra></extra>\",\"legendgroup\":\"Vols dans les v\\u00e9hicules\",\"marker\":{\"color\":\"#19d3f3\",\"pattern\":{\"shape\":\"\"}},\"name\":\"Vols dans les v\\u00e9hicules\",\"offsetgroup\":\"Vols dans les v\\u00e9hicules\",\"orientation\":\"v\",\"showlegend\":true,\"textposition\":\"auto\",\"x\":[\"Ile-de-France\",\"Auvergne-Rh\\u00f4ne-Alpes\",\"Occitanie\",\"Provence-Alpes-C\\u00f4te d'Azure\",\"Hauts de France\",\"Nouvelle Aquitaine\",\"Pays de la Loire\",\"Grand Est\",\"Normandie\",\"Bretagne\",\"Centre Val de Loire\",\"Bourgogne\",\"La R\\u00e9union\",\"Guadeloupe\",\"Guyane\",\"Martinique\",\"Mayotte\",\"Corse\"],\"xaxis\":\"x\",\"y\":[515653,320513,238880,236878,216042,178582,143633,116049,81751,64190,57967,47894,19854,18748,13123,11817,4429,3406],\"yaxis\":\"y\",\"type\":\"bar\"},{\"alignmentgroup\":\"True\",\"hovertemplate\":\"indicateur=Cambriolages de logement<br>Code_region=%{x}<br>nombre=%{y}<extra></extra>\",\"legendgroup\":\"Cambriolages de logement\",\"marker\":{\"color\":\"#FF6692\",\"pattern\":{\"shape\":\"\"}},\"name\":\"Cambriolages de logement\",\"offsetgroup\":\"Cambriolages de logement\",\"orientation\":\"v\",\"showlegend\":true,\"textposition\":\"auto\",\"x\":[\"Ile-de-France\",\"Auvergne-Rh\\u00f4ne-Alpes\",\"Provence-Alpes-C\\u00f4te d'Azure\",\"Occitanie\",\"Nouvelle Aquitaine\",\"Hauts de France\",\"Grand Est\",\"Pays de la Loire\",\"Centre Val de Loire\",\"Normandie\",\"Bretagne\",\"Bourgogne\",\"Guadeloupe\",\"La R\\u00e9union\",\"Guyane\",\"Martinique\",\"Mayotte\",\"Corse\"],\"xaxis\":\"x\",\"y\":[409921,281832,215726,211122,178380,168339,118945,100910,68156,66881,66716,61712,12466,11406,10277,9076,5459,3870],\"yaxis\":\"y\",\"type\":\"bar\"},{\"alignmentgroup\":\"True\",\"hovertemplate\":\"indicateur=Vols de v\\u00e9hicule<br>Code_region=%{x}<br>nombre=%{y}<extra></extra>\",\"legendgroup\":\"Vols de v\\u00e9hicule\",\"marker\":{\"color\":\"#B6E880\",\"pattern\":{\"shape\":\"\"}},\"name\":\"Vols de v\\u00e9hicule\",\"offsetgroup\":\"Vols de v\\u00e9hicule\",\"orientation\":\"v\",\"showlegend\":true,\"textposition\":\"auto\",\"x\":[\"Ile-de-France\",\"Provence-Alpes-C\\u00f4te d'Azure\",\"Auvergne-Rh\\u00f4ne-Alpes\",\"Hauts de France\",\"Occitanie\",\"Nouvelle Aquitaine\",\"Pays de la Loire\",\"Grand Est\",\"Normandie\",\"Centre Val de Loire\",\"Bretagne\",\"Bourgogne\",\"La R\\u00e9union\",\"Guadeloupe\",\"Guyane\",\"Corse\",\"Martinique\",\"Mayotte\"],\"xaxis\":\"x\",\"y\":[340051,156386,151675,126215,98047,82259,64659,56563,42186,34839,32932,32870,10172,6718,6428,5638,5077,4093],\"yaxis\":\"y\",\"type\":\"bar\"},{\"alignmentgroup\":\"True\",\"hovertemplate\":\"indicateur=Vols violents sans arme<br>Code_region=%{x}<br>nombre=%{y}<extra></extra>\",\"legendgroup\":\"Vols violents sans arme\",\"marker\":{\"color\":\"#FF97FF\",\"pattern\":{\"shape\":\"\"}},\"name\":\"Vols violents sans arme\",\"offsetgroup\":\"Vols violents sans arme\",\"orientation\":\"v\",\"showlegend\":true,\"textposition\":\"auto\",\"x\":[\"Ile-de-France\",\"Provence-Alpes-C\\u00f4te d'Azure\",\"Auvergne-Rh\\u00f4ne-Alpes\",\"Hauts de France\",\"Occitanie\",\"Nouvelle Aquitaine\",\"Grand Est\",\"Pays de la Loire\",\"Normandie\",\"Bretagne\",\"Centre Val de Loire\",\"Bourgogne\",\"Guyane\",\"La R\\u00e9union\",\"Mayotte\",\"Guadeloupe\",\"Martinique\",\"Corse\"],\"xaxis\":\"x\",\"y\":[293896,59091,56219,44346,43752,27178,20510,19037,15873,12227,10733,7753,7700,6119,4808,4705,3233,689],\"yaxis\":\"y\",\"type\":\"bar\"},{\"alignmentgroup\":\"True\",\"hovertemplate\":\"indicateur=Vols d'accessoires sur v\\u00e9hicules<br>Code_region=%{x}<br>nombre=%{y}<extra></extra>\",\"legendgroup\":\"Vols d'accessoires sur v\\u00e9hicules\",\"marker\":{\"color\":\"#FECB52\",\"pattern\":{\"shape\":\"\"}},\"name\":\"Vols d'accessoires sur v\\u00e9hicules\",\"offsetgroup\":\"Vols d'accessoires sur v\\u00e9hicules\",\"orientation\":\"v\",\"showlegend\":true,\"textposition\":\"auto\",\"x\":[\"Ile-de-France\",\"Auvergne-Rh\\u00f4ne-Alpes\",\"Hauts de France\",\"Provence-Alpes-C\\u00f4te d'Azure\",\"Occitanie\",\"Nouvelle Aquitaine\",\"Pays de la Loire\",\"Grand Est\",\"Normandie\",\"Bretagne\",\"Centre Val de Loire\",\"Bourgogne\",\"La R\\u00e9union\",\"Guadeloupe\",\"Corse\",\"Martinique\",\"Guyane\",\"Mayotte\"],\"xaxis\":\"x\",\"y\":[186767,102375,88468,80541,72183,60690,57836,46730,33746,32736,32194,28703,4469,4241,2924,2666,1436,735],\"yaxis\":\"y\",\"type\":\"bar\"},{\"alignmentgroup\":\"True\",\"hovertemplate\":\"indicateur=Violences sexuelles<br>Code_region=%{x}<br>nombre=%{y}<extra></extra>\",\"legendgroup\":\"Violences sexuelles\",\"marker\":{\"color\":\"#636efa\",\"pattern\":{\"shape\":\"\"}},\"name\":\"Violences sexuelles\",\"offsetgroup\":\"Violences sexuelles\",\"orientation\":\"v\",\"showlegend\":true,\"textposition\":\"auto\",\"x\":[\"Ile-de-France\",\"Auvergne-Rh\\u00f4ne-Alpes\",\"Hauts de France\",\"Nouvelle Aquitaine\",\"Occitanie\",\"Grand Est\",\"Provence-Alpes-C\\u00f4te d'Azure\",\"Pays de la Loire\",\"Normandie\",\"Bretagne\",\"Bourgogne\",\"Centre Val de Loire\",\"La R\\u00e9union\",\"Guyane\",\"Martinique\",\"Guadeloupe\",\"Mayotte\",\"Corse\"],\"xaxis\":\"x\",\"y\":[140537,80983,80912,69791,63839,60385,50717,45969,41573,36269,31277,31112,13331,5165,5085,4873,3304,2706],\"yaxis\":\"y\",\"type\":\"bar\"},{\"alignmentgroup\":\"True\",\"hovertemplate\":\"indicateur=Trafic de stup\\u00e9fiants<br>Code_region=%{x}<br>nombre=%{y}<extra></extra>\",\"legendgroup\":\"Trafic de stup\\u00e9fiants\",\"marker\":{\"color\":\"#EF553B\",\"pattern\":{\"shape\":\"\"}},\"name\":\"Trafic de stup\\u00e9fiants\",\"offsetgroup\":\"Trafic de stup\\u00e9fiants\",\"orientation\":\"v\",\"showlegend\":true,\"textposition\":\"auto\",\"x\":[\"Ile-de-France\",\"Provence-Alpes-C\\u00f4te d'Azure\",\"Auvergne-Rh\\u00f4ne-Alpes\",\"Occitanie\",\"Hauts de France\",\"Nouvelle Aquitaine\",\"Grand Est\",\"Bretagne\",\"Bourgogne\",\"Pays de la Loire\",\"Normandie\",\"Centre Val de Loire\",\"Guyane\",\"Martinique\",\"Guadeloupe\",\"La R\\u00e9union\",\"Corse\",\"Mayotte\"],\"xaxis\":\"x\",\"y\":[131899,47586,41646,34801,29234,26449,25044,14554,13829,13509,12572,8815,6154,3052,2407,2315,1598,639],\"yaxis\":\"y\",\"type\":\"bar\"},{\"alignmentgroup\":\"True\",\"hovertemplate\":\"indicateur=Vols avec armes<br>Code_region=%{x}<br>nombre=%{y}<extra></extra>\",\"legendgroup\":\"Vols avec armes\",\"marker\":{\"color\":\"#00cc96\",\"pattern\":{\"shape\":\"\"}},\"name\":\"Vols avec armes\",\"offsetgroup\":\"Vols avec armes\",\"orientation\":\"v\",\"showlegend\":true,\"textposition\":\"auto\",\"x\":[\"Ile-de-France\",\"Provence-Alpes-C\\u00f4te d'Azure\",\"Auvergne-Rh\\u00f4ne-Alpes\",\"Guyane\",\"Hauts de France\",\"Occitanie\",\"Guadeloupe\",\"Mayotte\",\"Nouvelle Aquitaine\",\"Grand Est\",\"Pays de la Loire\",\"Martinique\",\"Normandie\",\"Bourgogne\",\"Bretagne\",\"Centre Val de Loire\",\"La R\\u00e9union\",\"Corse\"],\"xaxis\":\"x\",\"y\":[21144,8720,7545,6872,5442,5057,4338,4092,3299,2979,2803,2324,1868,1648,1512,1468,622,185],\"yaxis\":\"y\",\"type\":\"bar\"},{\"alignmentgroup\":\"True\",\"hovertemplate\":\"indicateur=Tentatives d'homicide<br>Code_region=%{x}<br>nombre=%{y}<extra></extra>\",\"legendgroup\":\"Tentatives d'homicide\",\"marker\":{\"color\":\"#ab63fa\",\"pattern\":{\"shape\":\"\"}},\"name\":\"Tentatives d'homicide\",\"offsetgroup\":\"Tentatives d'homicide\",\"orientation\":\"v\",\"showlegend\":true,\"textposition\":\"auto\",\"x\":[\"Ile-de-France\",\"Provence-Alpes-C\\u00f4te d'Azure\",\"Auvergne-Rh\\u00f4ne-Alpes\",\"Occitanie\",\"Hauts de France\",\"Grand Est\",\"Nouvelle Aquitaine\",\"Guyane\",\"Pays de la Loire\",\"Guadeloupe\",\"Martinique\",\"Bourgogne\",\"Normandie\",\"Centre Val de Loire\",\"Bretagne\",\"La R\\u00e9union\",\"Mayotte\",\"Corse\"],\"xaxis\":\"x\",\"y\":[6407,2786,2592,2231,1992,1765,1634,1400,1111,944,900,889,811,806,779,340,319,177],\"yaxis\":\"y\",\"type\":\"bar\"},{\"alignmentgroup\":\"True\",\"hovertemplate\":\"indicateur=Homicides<br>Code_region=%{x}<br>nombre=%{y}<extra></extra>\",\"legendgroup\":\"Homicides\",\"marker\":{\"color\":\"#FFA15A\",\"pattern\":{\"shape\":\"\"}},\"name\":\"Homicides\",\"offsetgroup\":\"Homicides\",\"orientation\":\"v\",\"showlegend\":true,\"textposition\":\"auto\",\"x\":[\"Ile-de-France\",\"Provence-Alpes-C\\u00f4te d'Azure\",\"Auvergne-Rh\\u00f4ne-Alpes\",\"Hauts de France\",\"Occitanie\",\"Nouvelle Aquitaine\",\"Grand Est\",\"Guyane\",\"Pays de la Loire\",\"Normandie\",\"Bretagne\",\"Bourgogne\",\"Guadeloupe\",\"Centre Val de Loire\",\"Martinique\",\"La R\\u00e9union\",\"Corse\",\"Mayotte\"],\"xaxis\":\"x\",\"y\":[1270,1072,766,657,648,581,499,350,327,319,275,241,240,230,194,145,114,99],\"yaxis\":\"y\",\"type\":\"bar\"}],                        {\"template\":{\"data\":{\"histogram2dcontour\":[{\"type\":\"histogram2dcontour\",\"colorbar\":{\"outlinewidth\":0,\"ticks\":\"\"},\"colorscale\":[[0.0,\"#0d0887\"],[0.1111111111111111,\"#46039f\"],[0.2222222222222222,\"#7201a8\"],[0.3333333333333333,\"#9c179e\"],[0.4444444444444444,\"#bd3786\"],[0.5555555555555556,\"#d8576b\"],[0.6666666666666666,\"#ed7953\"],[0.7777777777777778,\"#fb9f3a\"],[0.8888888888888888,\"#fdca26\"],[1.0,\"#f0f921\"]]}],\"choropleth\":[{\"type\":\"choropleth\",\"colorbar\":{\"outlinewidth\":0,\"ticks\":\"\"}}],\"histogram2d\":[{\"type\":\"histogram2d\",\"colorbar\":{\"outlinewidth\":0,\"ticks\":\"\"},\"colorscale\":[[0.0,\"#0d0887\"],[0.1111111111111111,\"#46039f\"],[0.2222222222222222,\"#7201a8\"],[0.3333333333333333,\"#9c179e\"],[0.4444444444444444,\"#bd3786\"],[0.5555555555555556,\"#d8576b\"],[0.6666666666666666,\"#ed7953\"],[0.7777777777777778,\"#fb9f3a\"],[0.8888888888888888,\"#fdca26\"],[1.0,\"#f0f921\"]]}],\"heatmap\":[{\"type\":\"heatmap\",\"colorbar\":{\"outlinewidth\":0,\"ticks\":\"\"},\"colorscale\":[[0.0,\"#0d0887\"],[0.1111111111111111,\"#46039f\"],[0.2222222222222222,\"#7201a8\"],[0.3333333333333333,\"#9c179e\"],[0.4444444444444444,\"#bd3786\"],[0.5555555555555556,\"#d8576b\"],[0.6666666666666666,\"#ed7953\"],[0.7777777777777778,\"#fb9f3a\"],[0.8888888888888888,\"#fdca26\"],[1.0,\"#f0f921\"]]}],\"heatmapgl\":[{\"type\":\"heatmapgl\",\"colorbar\":{\"outlinewidth\":0,\"ticks\":\"\"},\"colorscale\":[[0.0,\"#0d0887\"],[0.1111111111111111,\"#46039f\"],[0.2222222222222222,\"#7201a8\"],[0.3333333333333333,\"#9c179e\"],[0.4444444444444444,\"#bd3786\"],[0.5555555555555556,\"#d8576b\"],[0.6666666666666666,\"#ed7953\"],[0.7777777777777778,\"#fb9f3a\"],[0.8888888888888888,\"#fdca26\"],[1.0,\"#f0f921\"]]}],\"contourcarpet\":[{\"type\":\"contourcarpet\",\"colorbar\":{\"outlinewidth\":0,\"ticks\":\"\"}}],\"contour\":[{\"type\":\"contour\",\"colorbar\":{\"outlinewidth\":0,\"ticks\":\"\"},\"colorscale\":[[0.0,\"#0d0887\"],[0.1111111111111111,\"#46039f\"],[0.2222222222222222,\"#7201a8\"],[0.3333333333333333,\"#9c179e\"],[0.4444444444444444,\"#bd3786\"],[0.5555555555555556,\"#d8576b\"],[0.6666666666666666,\"#ed7953\"],[0.7777777777777778,\"#fb9f3a\"],[0.8888888888888888,\"#fdca26\"],[1.0,\"#f0f921\"]]}],\"surface\":[{\"type\":\"surface\",\"colorbar\":{\"outlinewidth\":0,\"ticks\":\"\"},\"colorscale\":[[0.0,\"#0d0887\"],[0.1111111111111111,\"#46039f\"],[0.2222222222222222,\"#7201a8\"],[0.3333333333333333,\"#9c179e\"],[0.4444444444444444,\"#bd3786\"],[0.5555555555555556,\"#d8576b\"],[0.6666666666666666,\"#ed7953\"],[0.7777777777777778,\"#fb9f3a\"],[0.8888888888888888,\"#fdca26\"],[1.0,\"#f0f921\"]]}],\"mesh3d\":[{\"type\":\"mesh3d\",\"colorbar\":{\"outlinewidth\":0,\"ticks\":\"\"}}],\"scatter\":[{\"fillpattern\":{\"fillmode\":\"overlay\",\"size\":10,\"solidity\":0.2},\"type\":\"scatter\"}],\"parcoords\":[{\"type\":\"parcoords\",\"line\":{\"colorbar\":{\"outlinewidth\":0,\"ticks\":\"\"}}}],\"scatterpolargl\":[{\"type\":\"scatterpolargl\",\"marker\":{\"colorbar\":{\"outlinewidth\":0,\"ticks\":\"\"}}}],\"bar\":[{\"error_x\":{\"color\":\"#2a3f5f\"},\"error_y\":{\"color\":\"#2a3f5f\"},\"marker\":{\"line\":{\"color\":\"#E5ECF6\",\"width\":0.5},\"pattern\":{\"fillmode\":\"overlay\",\"size\":10,\"solidity\":0.2}},\"type\":\"bar\"}],\"scattergeo\":[{\"type\":\"scattergeo\",\"marker\":{\"colorbar\":{\"outlinewidth\":0,\"ticks\":\"\"}}}],\"scatterpolar\":[{\"type\":\"scatterpolar\",\"marker\":{\"colorbar\":{\"outlinewidth\":0,\"ticks\":\"\"}}}],\"histogram\":[{\"marker\":{\"pattern\":{\"fillmode\":\"overlay\",\"size\":10,\"solidity\":0.2}},\"type\":\"histogram\"}],\"scattergl\":[{\"type\":\"scattergl\",\"marker\":{\"colorbar\":{\"outlinewidth\":0,\"ticks\":\"\"}}}],\"scatter3d\":[{\"type\":\"scatter3d\",\"line\":{\"colorbar\":{\"outlinewidth\":0,\"ticks\":\"\"}},\"marker\":{\"colorbar\":{\"outlinewidth\":0,\"ticks\":\"\"}}}],\"scattermapbox\":[{\"type\":\"scattermapbox\",\"marker\":{\"colorbar\":{\"outlinewidth\":0,\"ticks\":\"\"}}}],\"scatterternary\":[{\"type\":\"scatterternary\",\"marker\":{\"colorbar\":{\"outlinewidth\":0,\"ticks\":\"\"}}}],\"scattercarpet\":[{\"type\":\"scattercarpet\",\"marker\":{\"colorbar\":{\"outlinewidth\":0,\"ticks\":\"\"}}}],\"carpet\":[{\"aaxis\":{\"endlinecolor\":\"#2a3f5f\",\"gridcolor\":\"white\",\"linecolor\":\"white\",\"minorgridcolor\":\"white\",\"startlinecolor\":\"#2a3f5f\"},\"baxis\":{\"endlinecolor\":\"#2a3f5f\",\"gridcolor\":\"white\",\"linecolor\":\"white\",\"minorgridcolor\":\"white\",\"startlinecolor\":\"#2a3f5f\"},\"type\":\"carpet\"}],\"table\":[{\"cells\":{\"fill\":{\"color\":\"#EBF0F8\"},\"line\":{\"color\":\"white\"}},\"header\":{\"fill\":{\"color\":\"#C8D4E3\"},\"line\":{\"color\":\"white\"}},\"type\":\"table\"}],\"barpolar\":[{\"marker\":{\"line\":{\"color\":\"#E5ECF6\",\"width\":0.5},\"pattern\":{\"fillmode\":\"overlay\",\"size\":10,\"solidity\":0.2}},\"type\":\"barpolar\"}],\"pie\":[{\"automargin\":true,\"type\":\"pie\"}]},\"layout\":{\"autotypenumbers\":\"strict\",\"colorway\":[\"#636efa\",\"#EF553B\",\"#00cc96\",\"#ab63fa\",\"#FFA15A\",\"#19d3f3\",\"#FF6692\",\"#B6E880\",\"#FF97FF\",\"#FECB52\"],\"font\":{\"color\":\"#2a3f5f\"},\"hovermode\":\"closest\",\"hoverlabel\":{\"align\":\"left\"},\"paper_bgcolor\":\"white\",\"plot_bgcolor\":\"#E5ECF6\",\"polar\":{\"bgcolor\":\"#E5ECF6\",\"angularaxis\":{\"gridcolor\":\"white\",\"linecolor\":\"white\",\"ticks\":\"\"},\"radialaxis\":{\"gridcolor\":\"white\",\"linecolor\":\"white\",\"ticks\":\"\"}},\"ternary\":{\"bgcolor\":\"#E5ECF6\",\"aaxis\":{\"gridcolor\":\"white\",\"linecolor\":\"white\",\"ticks\":\"\"},\"baxis\":{\"gridcolor\":\"white\",\"linecolor\":\"white\",\"ticks\":\"\"},\"caxis\":{\"gridcolor\":\"white\",\"linecolor\":\"white\",\"ticks\":\"\"}},\"coloraxis\":{\"colorbar\":{\"outlinewidth\":0,\"ticks\":\"\"}},\"colorscale\":{\"sequential\":[[0.0,\"#0d0887\"],[0.1111111111111111,\"#46039f\"],[0.2222222222222222,\"#7201a8\"],[0.3333333333333333,\"#9c179e\"],[0.4444444444444444,\"#bd3786\"],[0.5555555555555556,\"#d8576b\"],[0.6666666666666666,\"#ed7953\"],[0.7777777777777778,\"#fb9f3a\"],[0.8888888888888888,\"#fdca26\"],[1.0,\"#f0f921\"]],\"sequentialminus\":[[0.0,\"#0d0887\"],[0.1111111111111111,\"#46039f\"],[0.2222222222222222,\"#7201a8\"],[0.3333333333333333,\"#9c179e\"],[0.4444444444444444,\"#bd3786\"],[0.5555555555555556,\"#d8576b\"],[0.6666666666666666,\"#ed7953\"],[0.7777777777777778,\"#fb9f3a\"],[0.8888888888888888,\"#fdca26\"],[1.0,\"#f0f921\"]],\"diverging\":[[0,\"#8e0152\"],[0.1,\"#c51b7d\"],[0.2,\"#de77ae\"],[0.3,\"#f1b6da\"],[0.4,\"#fde0ef\"],[0.5,\"#f7f7f7\"],[0.6,\"#e6f5d0\"],[0.7,\"#b8e186\"],[0.8,\"#7fbc41\"],[0.9,\"#4d9221\"],[1,\"#276419\"]]},\"xaxis\":{\"gridcolor\":\"white\",\"linecolor\":\"white\",\"ticks\":\"\",\"title\":{\"standoff\":15},\"zerolinecolor\":\"white\",\"automargin\":true,\"zerolinewidth\":2},\"yaxis\":{\"gridcolor\":\"white\",\"linecolor\":\"white\",\"ticks\":\"\",\"title\":{\"standoff\":15},\"zerolinecolor\":\"white\",\"automargin\":true,\"zerolinewidth\":2},\"scene\":{\"xaxis\":{\"backgroundcolor\":\"#E5ECF6\",\"gridcolor\":\"white\",\"linecolor\":\"white\",\"showbackground\":true,\"ticks\":\"\",\"zerolinecolor\":\"white\",\"gridwidth\":2},\"yaxis\":{\"backgroundcolor\":\"#E5ECF6\",\"gridcolor\":\"white\",\"linecolor\":\"white\",\"showbackground\":true,\"ticks\":\"\",\"zerolinecolor\":\"white\",\"gridwidth\":2},\"zaxis\":{\"backgroundcolor\":\"#E5ECF6\",\"gridcolor\":\"white\",\"linecolor\":\"white\",\"showbackground\":true,\"ticks\":\"\",\"zerolinecolor\":\"white\",\"gridwidth\":2}},\"shapedefaults\":{\"line\":{\"color\":\"#2a3f5f\"}},\"annotationdefaults\":{\"arrowcolor\":\"#2a3f5f\",\"arrowhead\":0,\"arrowwidth\":1},\"geo\":{\"bgcolor\":\"white\",\"landcolor\":\"#E5ECF6\",\"subunitcolor\":\"white\",\"showland\":true,\"showlakes\":true,\"lakecolor\":\"white\"},\"title\":{\"x\":0.05},\"mapbox\":{\"style\":\"light\"}}},\"xaxis\":{\"anchor\":\"y\",\"domain\":[0.0,1.0],\"title\":{\"text\":\"Code_region\"}},\"yaxis\":{\"anchor\":\"x\",\"domain\":[0.0,1.0],\"title\":{\"text\":\"nombre\"}},\"legend\":{\"title\":{\"text\":\"indicateur\"},\"tracegroupgap\":0},\"margin\":{\"t\":60},\"barmode\":\"relative\",\"height\":800},                        {\"responsive\": true}                    ).then(function(){\n",
       "                            \n",
       "var gd = document.getElementById('5717b55a-44cd-4885-bf05-d7049d34519c');\n",
       "var x = new MutationObserver(function (mutations, observer) {{\n",
       "        var display = window.getComputedStyle(gd).display;\n",
       "        if (!display || display === 'none') {{\n",
       "            console.log([gd, 'removed!']);\n",
       "            Plotly.purge(gd);\n",
       "            observer.disconnect();\n",
       "        }}\n",
       "}});\n",
       "\n",
       "// Listen for the removal of the full notebook cells\n",
       "var notebookContainer = gd.closest('#notebook-container');\n",
       "if (notebookContainer) {{\n",
       "    x.observe(notebookContainer, {childList: true});\n",
       "}}\n",
       "\n",
       "// Listen for the clearing of the current output cell\n",
       "var outputEl = gd.closest('.output');\n",
       "if (outputEl) {{\n",
       "    x.observe(outputEl, {childList: true});\n",
       "}}\n",
       "\n",
       "                        })                };                });            </script>        </div>"
      ]
     },
     "metadata": {},
     "output_type": "display_data"
    }
   ],
   "source": [
    "fig = px.bar(sub_df,\n",
    "       x='Code_region',y='nombre',\n",
    "       color = 'indicateur', height = 800\n",
    "      )\n",
    "\n",
    "fig.show()\n"
   ]
  },
  {
   "cell_type": "raw",
   "id": "ec05130a",
   "metadata": {},
   "source": [
    "C'est pas ouf ouf , on apprend pas grand chose , faudrait regarder au cas par cas les regions peut être , croiser avec les départements , ça ferait le lien avec notre carte , prcq on fait une étude des régions au cas par cas."
   ]
  },
  {
   "cell_type": "code",
   "execution_count": null,
   "id": "e9cafe12",
   "metadata": {},
   "outputs": [],
   "source": []
  }
 ],
 "metadata": {
  "kernelspec": {
   "display_name": "Python 3",
   "language": "python",
   "name": "python3"
  },
  "language_info": {
   "codemirror_mode": {
    "name": "ipython",
    "version": 3
   },
   "file_extension": ".py",
   "mimetype": "text/x-python",
   "name": "python",
   "nbconvert_exporter": "python",
   "pygments_lexer": "ipython3",
   "version": "3.8.8"
  }
 },
 "nbformat": 4,
 "nbformat_minor": 5
}
